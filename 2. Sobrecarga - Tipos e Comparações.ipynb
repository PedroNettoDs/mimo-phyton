{
 "cells": [
  {
   "cell_type": "markdown",
   "metadata": {},
   "source": [
    "1. Crie a variável has_error . Verifique se position não é igual a expecte de salve o resultado em has_error"
   ]
  },
  {
   "cell_type": "markdown",
   "metadata": {},
   "source": [
    "position = \"last\"\n",
    "expected = \"first\"\n",
    "has_error = position != expected\n",
    "\n",
    "print(\"Error:\")\n",
    "print(has_error)"
   ]
  },
  {
   "cell_type": "markdown",
   "metadata": {},
   "source": [
    "2. O que isso exibe no console?\n",
    "\n",
    "\n"
   ]
  },
  {
   "cell_type": "code",
   "execution_count": null,
   "metadata": {},
   "outputs": [],
   "source": [
    "print(\"tweet\" == \"post\")\n",
    "\n",
    "#( ) \"tweet\" == \"post\"\n",
    "#( ) tweet == post\n",
    "#(x) False\n",
    "#( ) True"
   ]
  },
  {
   "cell_type": "markdown",
   "metadata": {},
   "source": [
    "3. Compare accountant com singer para exibir False.\n",
    "\n",
    "\n"
   ]
  },
  {
   "cell_type": "code",
   "execution_count": null,
   "metadata": {},
   "outputs": [],
   "source": [
    "accountant = \"Lisa\"\n",
    "singer = \"Joan\"\n",
    "print(accountant == singer)"
   ]
  },
  {
   "cell_type": "markdown",
   "metadata": {},
   "source": [
    "4. Usando o operador de igualdade, verifique se \"Diana\" é igual a \"Charles\".\n",
    "\n",
    "\n"
   ]
  },
  {
   "cell_type": "code",
   "execution_count": null,
   "metadata": {},
   "outputs": [],
   "source": [
    "print(\"Diana\" == \"Charles\")"
   ]
  },
  {
   "cell_type": "markdown",
   "metadata": {},
   "source": [
    "5. O que isso exibe no console?"
   ]
  },
  {
   "cell_type": "code",
   "execution_count": null,
   "metadata": {},
   "outputs": [],
   "source": [
    "print(\"go\" != \"go\")\n",
    "print(\"go\" == \"stop\")\n",
    "\n",
    "#( ) False e então True\n",
    "#(x) False e então False\n",
    "#( ) True\n",
    "#( ) False"
   ]
  },
  {
   "cell_type": "markdown",
   "metadata": {},
   "source": [
    "6. Armazene uma string item_1 para fazer o resultado da comparação True.\n",
    "\n",
    "\n"
   ]
  },
  {
   "cell_type": "code",
   "execution_count": null,
   "metadata": {},
   "outputs": [],
   "source": [
    "item_1 = \"pipe\"\n",
    "item_2 = \"pipe\"\n",
    " \n",
    "is_duplicate = item_1 == item_2"
   ]
  },
  {
   "cell_type": "markdown",
   "metadata": {},
   "source": [
    "7. Compare \"4G\" com \"5G\" para exibir True.\n",
    "\n",
    "\n"
   ]
  },
  {
   "cell_type": "code",
   "execution_count": null,
   "metadata": {},
   "outputs": [],
   "source": [
    "print(\"4G\" != \"5G\")"
   ]
  },
  {
   "cell_type": "markdown",
   "metadata": {},
   "source": [
    "8. Crie a variável same. Verifique se surname_1 é igual a surname_2 e salve o resultado em same.\n",
    "\n",
    "\n"
   ]
  },
  {
   "cell_type": "code",
   "execution_count": null,
   "metadata": {},
   "outputs": [],
   "source": [
    "surname_1 = \"Smith\"\n",
    "surname_2 = \"Davis\"\n",
    "same = \"surname_1\" == \"surname2\"\n",
    "\n",
    "\n",
    "print(\"Same surname:\")\n",
    "print(same)"
   ]
  },
  {
   "cell_type": "markdown",
   "metadata": {},
   "source": [
    "9. Qual desses trechos de código resulta em True?\n",
    "\n",
    "\n"
   ]
  },
  {
   "cell_type": "code",
   "execution_count": null,
   "metadata": {},
   "outputs": [],
   "source": [
    "#( ) version_7 = \"version 6\"\n",
    "#(x) \"version 6\" != \"version 7\"\n",
    "#( ) \"version 6\" == \"version 7\"\n",
    "#( ) version_6 = version_7"
   ]
  },
  {
   "cell_type": "markdown",
   "metadata": {},
   "source": [
    "10. Compare big_city com small_city para exibir True no console.\n"
   ]
  },
  {
   "cell_type": "code",
   "execution_count": null,
   "metadata": {},
   "outputs": [],
   "source": [
    "big_city = \"Tokyo\"\n",
    "small_city = \"Zurich\"\n",
    "\n",
    "print(big_city != small_city)"
   ]
  },
  {
   "cell_type": "markdown",
   "metadata": {},
   "source": [
    "11. Que tipos são os valores armazenados nessas variáveis?\n"
   ]
  },
  {
   "cell_type": "code",
   "execution_count": null,
   "metadata": {},
   "outputs": [],
   "source": [
    "pet_name = \"Charlie\"\n",
    "pet_age = 6\n",
    "\n",
    "#( ) string and string\n",
    "#( ) booleano e inteiro\n",
    "#(x) string and integer\n",
    "#( ) stiing and float"
   ]
  },
  {
   "cell_type": "markdown",
   "metadata": {},
   "source": [
    "12. Crie a variável average_height e defina-a como inteiro 160.\n",
    "\n",
    "\n"
   ]
  },
  {
   "cell_type": "code",
   "execution_count": null,
   "metadata": {},
   "outputs": [],
   "source": [
    "average_height = 160"
   ]
  },
  {
   "cell_type": "markdown",
   "metadata": {},
   "source": [
    "13. Qual é o tipo do valor que product_id armazena?\n",
    "\n",
    "\n"
   ]
  },
  {
   "cell_type": "code",
   "execution_count": null,
   "metadata": {},
   "outputs": [],
   "source": [
    "product_id = \"37\"\n",
    "\n",
    "print(type(product_id))\n",
    "\n",
    "#( ) Integer\n",
    "#(X) String\n",
    "#( ) Float\n",
    "#( ) Boolean\n",
    "\n",
    "#nota: por estar dentro das aspas, ele é considerado uma string, se fosse apenas 37, seria assim inteiro"
   ]
  },
  {
   "cell_type": "markdown",
   "metadata": {},
   "source": [
    "14. Crie a variável topic que contém uma string.\n",
    "\n",
    "\n"
   ]
  },
  {
   "cell_type": "code",
   "execution_count": null,
   "metadata": {},
   "outputs": [],
   "source": [
    "topic = \"Biology\"\n"
   ]
  },
  {
   "cell_type": "markdown",
   "metadata": {},
   "source": [
    "15. Que tipo de valor está dentro locked?"
   ]
  },
  {
   "cell_type": "code",
   "execution_count": null,
   "metadata": {},
   "outputs": [],
   "source": [
    "locked = True\n",
    "print(type(locked))\n",
    "\n",
    "#( ) String\n",
    "#( ) Integer\n",
    "#( ) Float\n",
    "#(x) Boolean\n",
    "\n",
    "#Nota: Boolean = False/True"
   ]
  },
  {
   "cell_type": "markdown",
   "metadata": {},
   "source": [
    "16. Exiba a variável que armazena um valor booleano."
   ]
  },
  {
   "cell_type": "code",
   "execution_count": 1,
   "metadata": {},
   "outputs": [
    {
     "name": "stdout",
     "output_type": "stream",
     "text": [
      "<class 'bool'>\n"
     ]
    }
   ],
   "source": [
    "status = \"away\"\n",
    "online = True\n",
    "\n",
    "print(type(online))"
   ]
  },
  {
   "cell_type": "markdown",
   "metadata": {},
   "source": [
    "17. Qual variável armazena um valor float?"
   ]
  },
  {
   "cell_type": "code",
   "execution_count": null,
   "metadata": {},
   "outputs": [],
   "source": [
    "price_1 = 15.99\n",
    "price_2 = 16\n",
    "\n",
    "#( ) Nenhum\n",
    "#( ) Ambos\n",
    "#( ) price_2\n",
    "#(x) price_1"
   ]
  },
  {
   "cell_type": "markdown",
   "metadata": {},
   "source": [
    "18. Altere o segundo logged_in valor para exibir um booleano.\n",
    "\n",
    "\n"
   ]
  },
  {
   "cell_type": "code",
   "execution_count": null,
   "metadata": {},
   "outputs": [],
   "source": [
    "logged_in = \"hello!\"\n",
    "print(logged_in)\n",
    "logged_in = \"True\"\n",
    "print(logged_in)\n",
    "\n"
   ]
  },
  {
   "cell_type": "markdown",
   "metadata": {},
   "source": [
    "19. O que faz este código?\n",
    "\n",
    "\n"
   ]
  },
  {
   "cell_type": "code",
   "execution_count": null,
   "metadata": {},
   "outputs": [],
   "source": [
    "rating = 5.7\n",
    "\n",
    "#(x) Atrubui o valor float 5.7 à variável ratting\n",
    "#( ) Ele atribui o valor string rating ao valor float 5.7\n",
    "#( ) Atribui o valor inteiro 5.7 à variável rating\n",
    "#( ) Ele compara dois valores"
   ]
  },
  {
   "cell_type": "markdown",
   "metadata": {},
   "source": [
    "20. Que valores esta f-string exibe juntos?"
   ]
  },
  {
   "cell_type": "code",
   "execution_count": null,
   "metadata": {},
   "outputs": [],
   "source": [
    "ingredient = \"sugar\"\n",
    "quantity = 100\n",
    "print(f\"Add {quantity} grams of {ingredient}\")\n",
    "\n",
    "#( ) Nada\n",
    "#( ) Apenas variáveis\n",
    "#( ) Apenas strings\n",
    "#(x) Strings e números"
   ]
  },
  {
   "cell_type": "markdown",
   "metadata": {},
   "source": [
    "21. Use a task variável em uma string f para exibir \"todo: dishes\".\n",
    "\n",
    "\n"
   ]
  },
  {
   "cell_type": "code",
   "execution_count": null,
   "metadata": {},
   "outputs": [],
   "source": [
    "task = \"dishes\"\n",
    "print(f\"todo: {task}\")"
   ]
  },
  {
   "cell_type": "markdown",
   "metadata": {},
   "source": [
    "22. O que há de errado com este código?\n",
    "\n",
    "\n"
   ]
  },
  {
   "cell_type": "code",
   "execution_count": null,
   "metadata": {},
   "outputs": [],
   "source": [
    "requests = 2\n",
    "print(\"{requests} new friend requests\")\n",
    "\n",
    "#( ) A string está sem as aspas \" \"\n",
    "#( ) A variável request deve estar entre aspas\n",
    "#( ) Não há nada de errado com o código\n",
    "#(x) O caracter f está em falta"
   ]
  },
  {
   "cell_type": "markdown",
   "metadata": {},
   "source": [
    "23. Use uma string f e a variável namepara exibir Hello, John!novamente.\n",
    "\n",
    "\n"
   ]
  },
  {
   "cell_type": "code",
   "execution_count": null,
   "metadata": {},
   "outputs": [],
   "source": [
    "name = \"John\"\n",
    "print(\"Hello, \" + name + \"!\")\n",
    "print(f\"Hello, {name}!\")"
   ]
  },
  {
   "cell_type": "markdown",
   "metadata": {},
   "source": [
    "24. O que esse código exibe no console?\n",
    "\n",
    "\n"
   ]
  },
  {
   "cell_type": "code",
   "execution_count": null,
   "metadata": {},
   "outputs": [],
   "source": [
    "min_age = 18\n",
    "max_age = 28\n",
    "print(f\"{88}% of social media users are aged between {min_age} and {max_age}\")\n",
    "\n",
    "#( ) Nada, o código está errado\n",
    "#( ) {88}% of social media users are aged between {18} and {28}\n",
    "#( ) {88}% of social media users are aged between {min_age} and {max_age}\n",
    "#(x) 88% of social media user are aged betwen 18 and 28"
   ]
  },
  {
   "cell_type": "markdown",
   "metadata": {},
   "source": [
    "25. Insira {2018} no final desta f-string.\n",
    "\n",
    "\n"
   ]
  },
  {
   "cell_type": "code",
   "execution_count": null,
   "metadata": {},
   "outputs": [],
   "source": [
    "print(f\"Mexico was the leading avocado producer in {2018}\")"
   ]
  },
  {
   "cell_type": "markdown",
   "metadata": {},
   "source": [
    "26. O que esse código exibe?"
   ]
  },
  {
   "cell_type": "code",
   "execution_count": null,
   "metadata": {},
   "outputs": [],
   "source": [
    "first = \"English\"\n",
    "second = \"Mandarin Chinese\"\n",
    "third = \"Hindi\"\n",
    "print(f\"Most spoken languages: {first}, {second}, {third}.\")\n",
    "\n",
    "#( ) \"Most spoken languages: {first], {second}, {third}\"\n",
    "#( ) Most spoken languages: first], {second}, {third}.\n",
    "#(x) Most spoken languages: English, Mandarin Chinese, Hindi.\n",
    "#( ) f\" Most spoken languages: {first], {second}, {third}.\"\""
   ]
  },
  {
   "cell_type": "markdown",
   "metadata": {},
   "source": [
    "27. Exiba o destino, as horas e, finalmente, os minutos dentro da string f."
   ]
  },
  {
   "cell_type": "code",
   "execution_count": null,
   "metadata": {},
   "outputs": [],
   "source": [
    "hours = 14\n",
    "minutes = 45\n",
    "destination = \"Paris\"\n",
    "print(f\"Your flight to {destination} takes off at {hours}:{minutes}\")"
   ]
  },
  {
   "cell_type": "markdown",
   "metadata": {},
   "source": [
    "28. O que isso exibe no console?\n",
    "\n",
    "\n"
   ]
  },
  {
   "cell_type": "code",
   "execution_count": null,
   "metadata": {},
   "outputs": [],
   "source": [
    "player_1 = \"rock\"\n",
    "player_2 = \"rock\"\n",
    "\n",
    "print(f\"It's a tie between {player_1} and {player_2}\")\n",
    "\n",
    "#( ) \"It's a tie between\" {player_1 == player_2}\"\n",
    "#(x) It's a tie between rock and rock\n",
    "#( ) f\"It's a tie between {player_1 == player_2}\"\n",
    "#( ) It's a tie between {player_1 == player_2}"
   ]
  },
  {
   "cell_type": "markdown",
   "metadata": {},
   "source": [
    "29. O que há de errado com este código?\n",
    "\n",
    "\n"
   ]
  },
  {
   "cell_type": "code",
   "execution_count": 2,
   "metadata": {},
   "outputs": [],
   "source": [
    "name = \"Kim\"\n",
    "greeting = \"Good morning, {name}\"\n",
    "\n",
    "#( ) Não podemos salvar f-strings em variáveis\n",
    "#( ) Não há nenhuma variável chamada name\n",
    "#( ) Não há nada de errado com o código\n",
    "#(x) Deve haver um f antes da string em greeting"
   ]
  },
  {
   "cell_type": "markdown",
   "metadata": {},
   "source": [
    "30. Armazene a string f na variável fact."
   ]
  },
  {
   "cell_type": "code",
   "execution_count": null,
   "metadata": {},
   "outputs": [],
   "source": [
    "percentage = 11.19\n",
    "fact = f\"water is {percentage}% hydrogen\"\n",
    "\n",
    "print(fact)"
   ]
  }
 ],
 "metadata": {
  "kernelspec": {
   "display_name": "Python 3",
   "language": "python",
   "name": "python3"
  },
  "language_info": {
   "codemirror_mode": {
    "name": "ipython",
    "version": 3
   },
   "file_extension": ".py",
   "mimetype": "text/x-python",
   "name": "python",
   "nbconvert_exporter": "python",
   "pygments_lexer": "ipython3",
   "version": "3.11.4"
  },
  "orig_nbformat": 4
 },
 "nbformat": 4,
 "nbformat_minor": 2
}
