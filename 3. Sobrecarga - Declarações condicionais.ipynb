{
 "cells": [
  {
   "cell_type": "markdown",
   "metadata": {},
   "source": [
    "1. Para onde vai a instrução else?"
   ]
  },
  {
   "cell_type": "code",
   "execution_count": null,
   "metadata": {},
   "outputs": [],
   "source": [
    "#( ) Quando não há nenhum bloco de código de instrução if\n",
    "#( ) Dentro do bloco de código da instrução if\n",
    "#(X) Após o bloco de código da instrução if\n",
    "#( ) Antes do bloco de código da instrução if"
   ]
  },
  {
   "cell_type": "markdown",
   "metadata": {},
   "source": [
    "2. Codifique uma instrução if/else que exibe se o usuário rola um 3 ou não.\n",
    "\n",
    "\n"
   ]
  },
  {
   "cell_type": "code",
   "execution_count": null,
   "metadata": {},
   "outputs": [],
   "source": [
    "rolled = 2\n",
    "\n",
    "if rolled == 3:\n",
    "  print(\"You have rolled a 3.\")\n",
    "else:\n",
    "  print(\"You haven't rolled a 3.\")"
   ]
  },
  {
   "cell_type": "markdown",
   "metadata": {},
   "source": [
    "3. Codifique a ifcondição para que o bloco if de código seja executado.\n",
    "\n",
    "\n"
   ]
  },
  {
   "cell_type": "code",
   "execution_count": null,
   "metadata": {},
   "outputs": [],
   "source": [
    "exercise = 60\n",
    "\n",
    "if exercise <= 60:\n",
    "  print(\"Keep exercising, you're almost there.\")\n",
    "else:\n",
    "  print(\"Nice job! You exercised for the full amount.\")"
   ]
  },
  {
   "cell_type": "markdown",
   "metadata": {},
   "source": [
    "4. O que esse código exibe no console?\n",
    "\n",
    "\n"
   ]
  },
  {
   "cell_type": "code",
   "execution_count": null,
   "metadata": {},
   "outputs": [],
   "source": [
    "calculate = True;\n",
    "\n",
    "if calculate:\n",
    "  print(\"Calculating...\")\n",
    "else:\n",
    "  print(\"Waiting for instruction.\")\n",
    "\n",
    "#( ) True\n",
    "#(X) Calculating...\n",
    "#( ) Calculating... Waiting for instruction.\n",
    "#( ) não vai exibir nada"
   ]
  },
  {
   "cell_type": "markdown",
   "metadata": {},
   "source": [
    "5. O que uma instrução else faz?\n",
    "\n",
    "\n"
   ]
  },
  {
   "cell_type": "code",
   "execution_count": null,
   "metadata": {},
   "outputs": [],
   "source": [
    "#( ) Sempre executeo código, não importa a condição\n",
    "#( ) Executa o código quando uma condição específica é satisfeita\n",
    "#(X) Executa o código quando nenhuma condição é satisfeita\n",
    "#( ) Executa o código após um bloco de código if executa o código"
   ]
  },
  {
   "cell_type": "markdown",
   "metadata": {},
   "source": [
    "6. O que há de errado com este código?\n",
    "\n",
    "\n"
   ]
  },
  {
   "cell_type": "code",
   "execution_count": null,
   "metadata": {},
   "outputs": [],
   "source": [
    "answer = 2+2\n",
    "if answer == 5:\n",
    "  print(\"Four equals five?\")\n",
    "else:\n",
    "  print(\"Math makes sense.\")\n",
    "\n",
    "#( ) Não deve haver dois pontos após a if palavra-chave\n",
    "#(x) Não há nada de errado com código\n",
    "#( ) A else palavra-chave está sem uma condição após ela\n",
    "#( ) Deve haver ponto-e-vírgula em vez de dois-pontos"
   ]
  },
  {
   "cell_type": "markdown",
   "metadata": {},
   "source": [
    "7. O que esse código exibe no console?\n",
    "\n",
    "\n"
   ]
  },
  {
   "cell_type": "code",
   "execution_count": null,
   "metadata": {},
   "outputs": [],
   "source": [
    "dice = 6\n",
    "\n",
    "if dice == 3:\n",
    "  print(\"You have rolled a 3.\")\n",
    "else:\n",
    "  print(\"You haven't rolled a 3.\")\n",
    "\n",
    "#( ) dice = 6\n",
    "#( ) You have rolled a 3\n",
    "#(X) You haven't rolled a 3\n",
    "#( ) O código não será executado"
   ]
  },
  {
   "cell_type": "markdown",
   "metadata": {},
   "source": [
    "8. Codifique a instrução if para que ela seja impressa apenas \"You're in luck!\" quando lucky_number for igual a 13."
   ]
  },
  {
   "cell_type": "code",
   "execution_count": null,
   "metadata": {},
   "outputs": [],
   "source": [
    "lucky_number = 13\n",
    "\n",
    "if lucky_number == 13:\n",
    "  print(\"You're in luck!\")\n",
    "else:\n",
    "  print(\"It's not your lucky day.\")"
   ]
  },
  {
   "cell_type": "markdown",
   "metadata": {},
   "source": [
    "9. O que esse código exibe no console?\n",
    "\n",
    "\n"
   ]
  },
  {
   "cell_type": "code",
   "execution_count": null,
   "metadata": {},
   "outputs": [],
   "source": [
    "calculate = False\n",
    "\n",
    "if calculate:\n",
    "  print(\"Calculating...\")\n",
    "else:\n",
    "  print(\"Waiting for instruction.\")\n",
    "\n",
    "#(x) Waiting for instruction\n",
    "#( ) não vai exibir nada\n",
    "#( ) Calculating\n",
    "#( ) Calculating... Waiting for instruction."
   ]
  },
  {
   "cell_type": "markdown",
   "metadata": {},
   "source": [
    "10. Termine a declaração else para que imprima \"Foi um filme bom\". se movie for menor que 7."
   ]
  },
  {
   "cell_type": "code",
   "execution_count": null,
   "metadata": {},
   "outputs": [],
   "source": [
    "movie = 8\n",
    "\n",
    "if movie >= 7:\n",
    "  print(\"Superb movie!\")\n",
    "else:\n",
    "  print(\"It was an okay movie.\")\n"
   ]
  },
  {
   "cell_type": "markdown",
   "metadata": {},
   "source": [
    "11. Atualize o bloco else de código para que a variável calculate seja True.\n",
    "\n",
    "\n"
   ]
  },
  {
   "cell_type": "code",
   "execution_count": null,
   "metadata": {},
   "outputs": [],
   "source": [
    "calculate = False;\n",
    "\n",
    "if calculate:\n",
    "  print(\"Calculating...\")\n",
    "else:\n",
    "  print(\"calculate before:\", calculate)\n",
    "  calculate = True\n",
    "  print(\"calculate after:\", calculate)"
   ]
  },
  {
   "cell_type": "markdown",
   "metadata": {},
   "source": [
    "12. O que esse código exibe no console?\n",
    "\n",
    "\n"
   ]
  },
  {
   "cell_type": "code",
   "execution_count": null,
   "metadata": {},
   "outputs": [],
   "source": [
    "number_pressed = 2\n",
    "message = \"\"\n",
    "\n",
    "if number_pressed == 1:\n",
    "  print(\"To hear store hours\")\n",
    "elif number_pressed == 2:\n",
    "  print(\"To talk to a manager\")\n",
    "elif number_pressed == 3:\n",
    "  print(\"To record a message\")\n",
    "elif number_pressed == 4:\n",
    "  print(\"To hear again\")\n",
    "else:\n",
    "  print(\"Invalid optiion\")\n",
    "\n",
    "#( ) To record a message\n",
    "#( ) To hear again\n",
    "#(X) To talk to a manager\n",
    "#( ) Invalid option"
   ]
  },
  {
   "cell_type": "markdown",
   "metadata": {},
   "source": [
    "13. Quantas elif declarações podemos codificar?\n",
    "\n",
    "\n"
   ]
  },
  {
   "cell_type": "code",
   "execution_count": null,
   "metadata": {},
   "outputs": [],
   "source": [
    "#( ) 10\n",
    "#( ) 0\n",
    "#(X) quantos quisermos\n",
    "#( ) 1"
   ]
  },
  {
   "cell_type": "markdown",
   "metadata": {},
   "source": [
    "14. O que esse código exibe no console?\n",
    "\n",
    "\n"
   ]
  },
  {
   "cell_type": "code",
   "execution_count": null,
   "metadata": {},
   "outputs": [],
   "source": [
    "response = \"Maybe\"\n",
    "\n",
    "if response == \"Yes\":\n",
    "  print(\"You have picked yes\")\n",
    "elif response == \"No\":\n",
    "  print(\"You have picked no\")\n",
    "else:\n",
    "  print(\"You must pick yes or no\")\n",
    "\n",
    "#( ) You have picked yes\n",
    "#( ) You have picked no\n",
    "#(X) You must pick yes or no\n",
    "#( ) Nada é exibido no console"
   ]
  },
  {
   "cell_type": "markdown",
   "metadata": {},
   "source": [
    "15. O que esse código exibe no console?\n",
    "\n",
    "\n"
   ]
  },
  {
   "cell_type": "code",
   "execution_count": null,
   "metadata": {},
   "outputs": [],
   "source": [
    "direction = \"left\"\n",
    "\n",
    "if direction == \"right\":\n",
    "  print(\"Turn right\")\n",
    "elif direction == \"u-turn\":\n",
    "  print(\"Make a U-turn\")\n",
    "elif direction == \"left\":\n",
    "  print(\"Turn left\")\n",
    "else:\n",
    "  print(\"Continue straight\")\n",
    "\n",
    "#( ) Continue straight\n",
    "#( ) Make a U-turn\n",
    "#(X) Turn left\n",
    "#( ) Turn right"
   ]
  },
  {
   "cell_type": "markdown",
   "metadata": {},
   "source": [
    "16. Codifique a palavra-chave para uma declaração elif."
   ]
  },
  {
   "cell_type": "code",
   "execution_count": null,
   "metadata": {},
   "outputs": [],
   "source": [
    "availability = \"low stock\"\n",
    "\n",
    "if availability == \"in stock\":\n",
    "  print(\"It's in stock!\")\n",
    "elif availability == \"low stock\":\n",
    "  print(\"We're running low.\")\n",
    "else:\n",
    "  print(\"Sorry, out of stock.\")"
   ]
  },
  {
   "cell_type": "markdown",
   "metadata": {},
   "source": [
    "17. Adicione uma instrução elif para verificar se volume é maior que 70.\n",
    "\n",
    "\n"
   ]
  },
  {
   "cell_type": "code",
   "execution_count": null,
   "metadata": {},
   "outputs": [],
   "source": [
    "volume = 60\n",
    "\n",
    "if volume < 20:\n",
    "  print(\"I can't hear it\")\n",
    "elif volume > 70:\n",
    "  print(\"It's a little loud\")\n",
    "else:\n",
    "  print(\"Perfect level\")"
   ]
  },
  {
   "cell_type": "markdown",
   "metadata": {},
   "source": [
    "18. Adicione outra instrução elif que verifique a condição greeting == \"Good afternoon\"."
   ]
  },
  {
   "cell_type": "code",
   "execution_count": null,
   "metadata": {},
   "outputs": [],
   "source": [
    "greeting = \"Good afternoon\"\n",
    "\n",
    "if greeting == \"Good morning\":\n",
    "  response = \"Good morning\"\n",
    "elif greeting == \"Good afternoon\":\n",
    "  response = \"Good afternoon\"\n",
    "else:\n",
    "  response = \"Hello!\"\n",
    "\n",
    "print(response)"
   ]
  },
  {
   "cell_type": "markdown",
   "metadata": {},
   "source": [
    "19. Adicione uma instrução else para exibir uma mensagem quando as condições if e elif não forem satisfeitas."
   ]
  },
  {
   "cell_type": "code",
   "execution_count": null,
   "metadata": {},
   "outputs": [],
   "source": [
    "drink_size = \"extra large\"\n",
    "if drink_size == \"small\":\n",
    "  print(\"Here's an 8 oz drink\")\n",
    "elif drink_size == \"medium\":\n",
    "  print(\"Here's an 12 oz drink\")\n",
    "elif drink_size == \"large\":\n",
    "  print(\"Here's an 16 oz drink\")\n",
    "else:\n",
    "  print(\"We don't have a drink in that size.\")"
   ]
  },
  {
   "cell_type": "markdown",
   "metadata": {},
   "source": [
    "20. O que isso exibe no console?\n",
    "\n",
    "\n"
   ]
  },
  {
   "cell_type": "code",
   "execution_count": null,
   "metadata": {},
   "outputs": [],
   "source": [
    "caffeine = True\n",
    "time = \"night\"\n",
    "\n",
    "if caffeine and time == \"night\":\n",
    "  print(\"Awake all night\")\n",
    "else:\n",
    "  print(\"Good night's sleep\")\n",
    "\n",
    "#( ) Good night's sleep\n",
    "#( ) night\n",
    "#( ) nada será exibido\n",
    "#(x) Awake all night"
   ]
  },
  {
   "cell_type": "markdown",
   "metadata": {},
   "source": [
    "21. O que esse código exibe no console?\n"
   ]
  },
  {
   "cell_type": "code",
   "execution_count": null,
   "metadata": {},
   "outputs": [],
   "source": [
    "caffeine = True\n",
    "time = \"day\"\n",
    "\n",
    "if caffeine == False or time != \"night\":\n",
    "  print(\"Good night's sleep\")\n",
    "else:\n",
    "  print(\"Awake all night\")\n",
    "\n",
    "#( ) Awake all night\n",
    "#(X) Good night's sleep\n",
    "#( ) day\n",
    "#( ) True"
   ]
  },
  {
   "cell_type": "markdown",
   "metadata": {},
   "source": [
    "22. O que isso exibe no console?\n",
    "\n",
    "\n"
   ]
  },
  {
   "cell_type": "code",
   "execution_count": null,
   "metadata": {},
   "outputs": [],
   "source": [
    "hungry = True\n",
    "food_ready = False\n",
    "\n",
    "if hungry and food_ready:\n",
    "  print(\"Let's eat!\")\n",
    "\n",
    "#( ) Let's eat!\n",
    "#(X) Nada, porque uma condição é False\n",
    "#( ) Nada, porque uma condição é True\n",
    "#( ) Nada, porque ambas condições são False"
   ]
  },
  {
   "cell_type": "markdown",
   "metadata": {},
   "source": [
    "23. Quantas condições alternativas podemos usar com os operadores and/or?\n",
    "\n",
    "\n"
   ]
  },
  {
   "cell_type": "code",
   "execution_count": null,
   "metadata": {},
   "outputs": [],
   "source": [
    "#(X) quantas quisermos\n",
    "#( ) Um\n",
    "#( ) Dois\n",
    "#( ) Três"
   ]
  },
  {
   "cell_type": "markdown",
   "metadata": {},
   "source": [
    "24. Quando um bloco de código seria ignorado se as condições estiverem vinculadas a or?"
   ]
  },
  {
   "cell_type": "code",
   "execution_count": null,
   "metadata": {},
   "outputs": [],
   "source": [
    "#(x) Quando todas as condições forem False\n",
    "#( ) Quando uma das condições é False\n",
    "#( ) or sempre executa o bloco de código\n",
    "#( ) or sempre pula o bloco de código"
   ]
  },
  {
   "cell_type": "markdown",
   "metadata": {},
   "source": [
    "25. Atribua um valor a weekend para executar o bloco de código.\n",
    "\n",
    "\n"
   ]
  },
  {
   "cell_type": "code",
   "execution_count": null,
   "metadata": {},
   "outputs": [],
   "source": [
    "weekend = True\n",
    "holiday = False\n",
    "\n",
    "if weekend or holiday:\n",
    "  print(\"Sleep in!\")"
   ]
  },
  {
   "cell_type": "markdown",
   "metadata": {},
   "source": [
    "26. Quando um bloco de código seria executado se as condições estivessem vinculadas a or?"
   ]
  },
  {
   "cell_type": "code",
   "execution_count": null,
   "metadata": {},
   "outputs": [],
   "source": [
    "#(x) Quando há pelo menos uma condição que é True\n",
    "#( ) Nunca\n",
    "#( ) Quando todas as condições são True\n",
    "#( ) Quando há pelo menos uma condição que é False"
   ]
  },
  {
   "cell_type": "markdown",
   "metadata": {},
   "source": [
    "27. Atribua caffeine e time valores para que sejam Awake all night exibidos no console."
   ]
  },
  {
   "cell_type": "code",
   "execution_count": null,
   "metadata": {},
   "outputs": [],
   "source": [
    "caffeine = True\n",
    "time = \"night\"\n",
    "\n",
    "if caffeine and time == \"night\":\n",
    "  print(\"Awake all night\")\n",
    "else:\n",
    "  print(\"Good night's sleep\")"
   ]
  },
  {
   "cell_type": "markdown",
   "metadata": {},
   "source": [
    "28. Use or para verificar alternativamente se percent tem um valor maior que 90."
   ]
  },
  {
   "cell_type": "code",
   "execution_count": null,
   "metadata": {},
   "outputs": [],
   "source": [
    "letter = \"A\"\n",
    "percent = \"97\"\n",
    "\n",
    "if letter == \"A\" or percent > 90:\n",
    "  print(\"You got an A!\")"
   ]
  },
  {
   "cell_type": "markdown",
   "metadata": {},
   "source": [
    "29. Vincule as condições a um operador que pula o bloco de código e nada é exibido no console.\n",
    "\n",
    "\n"
   ]
  },
  {
   "cell_type": "code",
   "execution_count": null,
   "metadata": {},
   "outputs": [],
   "source": [
    "caffeine = True\n",
    "drank = \"night\"\n",
    "\n",
    "if caffeine and drank != \"night\":\n",
    "  print(\"Good night's sleep\")"
   ]
  },
  {
   "cell_type": "markdown",
   "metadata": {},
   "source": [
    "30. Adicione bilingual como condição e use or para vincular trilingual e multilingual para que o bloco de código seja executado."
   ]
  },
  {
   "cell_type": "code",
   "execution_count": null,
   "metadata": {},
   "outputs": [],
   "source": [
    "bilingual = True\n",
    "trilingual = False\n",
    "multilingual = False\n",
    "\n",
    "if bilingual or trilingual or multilingual:\n",
    "  print(\"You speak more than one language!\")"
   ]
  }
 ],
 "metadata": {
  "language_info": {
   "name": "python"
  },
  "orig_nbformat": 4
 },
 "nbformat": 4,
 "nbformat_minor": 2
}
