{
 "cells": [
  {
   "cell_type": "markdown",
   "metadata": {},
   "source": [
    "\n",
    "Você é tutor em uma escola local e deseja calcular as porcentagens das notas dos alunos no total para ver se eles são aprovados.\n",
    "\n",
    "Vamos criar um programa para te ajudar nessa tarefa!"
   ]
  },
  {
   "cell_type": "markdown",
   "metadata": {},
   "source": [
    "Vamos começar com algo simples. Armazene o nome do aluno Sam em uma variável."
   ]
  },
  {
   "cell_type": "code",
   "execution_count": 1,
   "metadata": {},
   "outputs": [],
   "source": [
    "student_name = \"Sam\""
   ]
  },
  {
   "cell_type": "markdown",
   "metadata": {},
   "source": [
    "Sam fez quatro exames neste semestre. As disciplinas que estudou foram matemática, ciências, inglês e geologia.\n",
    "Vamos armazenar as notas de Sam em variáveis ​​únicas."
   ]
  },
  {
   "cell_type": "markdown",
   "metadata": {},
   "source": [
    "1. Crie uma math_grade variável e atribua o inteiro 88 a ela.\n",
    "2. Crie uma science_grade variável e atribua o inteiro 75 a ela.\n",
    "3. Crie uma english_grade variável e atribua o inteiro 90 a ela.\n",
    "4. Crie uma geology_grade variável e atribua o inteiro 69 a ela."
   ]
  },
  {
   "cell_type": "code",
   "execution_count": 2,
   "metadata": {},
   "outputs": [],
   "source": [
    "math_grade = 88\n",
    "science_grade = 75\n",
    "english_grade = 90\n",
    "geology_grade = 69"
   ]
  },
  {
   "cell_type": "markdown",
   "metadata": {},
   "source": [
    "Agora, para determinar se Sam passou no semestre, precisamos calcular a nota total que ele obteve."
   ]
  },
  {
   "cell_type": "markdown",
   "metadata": {},
   "source": [
    "1. Crie uma variável total_grade e armazene nela a soma de todas as notas das disciplinas nela.\n",
    "Use as variáveis ​​que você criou."
   ]
  },
  {
   "cell_type": "code",
   "execution_count": 3,
   "metadata": {},
   "outputs": [],
   "source": [
    "total_grade = math_grade + science_grade + english_grade + geology_grade"
   ]
  },
  {
   "cell_type": "markdown",
   "metadata": {},
   "source": [
    "A nota máxima de cada disciplina é 100. Assim, a nota máxima total que um aluno pode obter é 400.\n",
    "Com esta informação, vamos calcular a nota total de Sam como uma porcentagem."
   ]
  },
  {
   "cell_type": "markdown",
   "metadata": {},
   "source": [
    "1. Crie uma max_grade variável e atribua o número 400 a ela.\n",
    "2. Crie uma total_percentage variável que armazene as notas de Sam em porcentagem. Você pode calcular a porcentagem dividindo a nota total que Sam obteve pela nota máxima e multiplicando o resultado por 100.\n",
    "3. Imprima uma declaração que diga: \"Sam's total percentage is <total>%\". Substitua pela total_percentage variável."
   ]
  },
  {
   "cell_type": "code",
   "execution_count": 4,
   "metadata": {},
   "outputs": [
    {
     "name": "stdout",
     "output_type": "stream",
     "text": [
      "Sam's total percentage is 80.5%\n"
     ]
    }
   ],
   "source": [
    "max_grade = 400\n",
    "total_percentage = total_grade / max_grade * 100\n",
    "print(f\"{student_name}'s total percentage is {total_percentage}%\")"
   ]
  },
  {
   "cell_type": "markdown",
   "metadata": {},
   "source": [
    "Incrível! Recebemos a informação do departamento de informática da escola de que o sistema com o qual eles trabalham não aceita decimais.\n",
    "Para garantir que exibimos apenas a porcentagem total com números inteiros, precisamos converter total_percentage de flutuante para inteiro."
   ]
  },
  {
   "cell_type": "markdown",
   "metadata": {},
   "source": [
    "1. Reatribua total_percentage para que o número armazenado seja um número inteiro em vez de um float."
   ]
  },
  {
   "cell_type": "code",
   "execution_count": 5,
   "metadata": {},
   "outputs": [],
   "source": [
    "#Você pode usar int(<float variable>)para converter um float em um inteiro.\n",
    "\n",
    "total_percentage = int(total_percentage)"
   ]
  },
  {
   "cell_type": "markdown",
   "metadata": {},
   "source": [
    "Usando as informações que acabamos de obter, vamos verificar se Sam passou no semestre.\n",
    "O instrutor do curso nos informa que, para que um aluno seja aprovado, ele deve obter uma porcentagem total igual 50ou superior."
   ]
  },
  {
   "cell_type": "markdown",
   "metadata": {},
   "source": [
    "1. Crie uma did_student_passvariável e atribua a ela o valor de comparação se total_percentagefor maior ou igual a 50."
   ]
  },
  {
   "cell_type": "code",
   "execution_count": 6,
   "metadata": {},
   "outputs": [],
   "source": [
    "did_student_pass = total_percentage >= 50"
   ]
  },
  {
   "cell_type": "markdown",
   "metadata": {},
   "source": [
    "Conforme processamos o relatório de Sam, notamos que Sam nunca participou de nenhuma atividade esportiva na escola.\n",
    "Conseqüentemente, Sam terá uma chance 0 nos esportes.\n",
    "Esta é uma atividade extracurricular, então as notas de Sam não serão afetadas.\n",
    "No entanto, queremos refletir essas informações no relatório."
   ]
  },
  {
   "cell_type": "markdown",
   "metadata": {},
   "source": [
    "1. Crie uma sporting_activities variável.\n",
    "2. Usando bool(), converta a nota de Sam 0 em um Booleano e armazene-a na sporting_activities variável.\n",
    "3. Usando f-strings e a sporting_activities variável, imprima uma instrução que diga:"
   ]
  },
  {
   "cell_type": "code",
   "execution_count": 7,
   "metadata": {},
   "outputs": [
    {
     "name": "stdout",
     "output_type": "stream",
     "text": [
      "Sam participated in sporting activities: False\n"
     ]
    }
   ],
   "source": [
    "sporting_activities = bool(0)\n",
    "print(f\"{student_name} participated in sporting activities: {sporting_activities}\")\n"
   ]
  },
  {
   "cell_type": "markdown",
   "metadata": {},
   "source": [
    "Excelente trabalho.\n",
    "Agora, vamos imprimir a porcentagem total que Sam alcançou, bem como se Sam foi aprovado ou não.\n",
    "\n",
    "Usando f-strings, imprima o seguinte:"
   ]
  },
  {
   "cell_type": "markdown",
   "metadata": {},
   "source": [
    "1. Uma declaração que diz: Sam's total percentage as an integer is < percentage >%.\n",
    "Substitua < percentage > pela total_percentage variável.\n",
    "\n",
    "2. Uma declaração que diz: Sam passed to the next semester: < boolean >.\n",
    "Substitua < boolean > pela did_student_pass variável."
   ]
  },
  {
   "cell_type": "code",
   "execution_count": 8,
   "metadata": {},
   "outputs": [
    {
     "name": "stdout",
     "output_type": "stream",
     "text": [
      "Sam participated in sporting activities: False\n",
      "Sam 's total percentage as an integer is 80%\n",
      "Sam  passed to the next semester: True\n"
     ]
    }
   ],
   "source": [
    "print(f\"{student_name} participated in sporting activities: {sporting_activities}\")\n",
    "print(f\"{student_name} 's total percentage as an integer is {total_percentage}%\")\n",
    "print(f\"{student_name}  passed to the next semester: {did_student_pass}\")"
   ]
  },
  {
   "cell_type": "markdown",
   "metadata": {},
   "source": [
    "Parabéns! Você criou um pequeno programa que armazena as informações das notas, as processa para obter a nota total e a porcentagem e faz algumas operações para preparar essas informações antes de imprimi-las na tela."
   ]
  }
 ],
 "metadata": {
  "kernelspec": {
   "display_name": "Python 3",
   "language": "python",
   "name": "python3"
  },
  "language_info": {
   "codemirror_mode": {
    "name": "ipython",
    "version": 3
   },
   "file_extension": ".py",
   "mimetype": "text/x-python",
   "name": "python",
   "nbconvert_exporter": "python",
   "pygments_lexer": "ipython3",
   "version": "3.11.4"
  },
  "orig_nbformat": 4
 },
 "nbformat": 4,
 "nbformat_minor": 2
}
