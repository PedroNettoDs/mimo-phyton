{
 "cells": [
  {
   "cell_type": "markdown",
   "metadata": {},
   "source": [
    "1. Que valor esse código atribui à average variável?\n",
    "\n",
    "\n"
   ]
  },
  {
   "cell_type": "code",
   "execution_count": null,
   "metadata": {},
   "outputs": [],
   "source": [
    "average = 75\n",
    "\n",
    "#(X) False\n",
    "#( ) \"seventry five\"\n",
    "#( ) True\n",
    "#( ) 75"
   ]
  },
  {
   "cell_type": "markdown",
   "metadata": {},
   "source": [
    "2. O que significa auto-atribuir uma variável?\n",
    "\n",
    "\n"
   ]
  },
  {
   "cell_type": "code",
   "execution_count": null,
   "metadata": {},
   "outputs": [],
   "source": [
    "#(X) Atibuindo a uma variável seu próprio valor\n",
    "#( ) Atibuindo a uma variável um valor de string\n",
    "#( ) Atibuindo a uma variável um valor booleano\n",
    "#( ) Atibuindo a uma variável um valor numérico"
   ]
  },
  {
   "cell_type": "markdown",
   "metadata": {},
   "source": [
    "3. O que esse código exibe no console?\n",
    "\n",
    "\n"
   ]
  },
  {
   "cell_type": "code",
   "execution_count": null,
   "metadata": {},
   "outputs": [],
   "source": [
    "average = 75\n",
    "average = average\n",
    "\n",
    "print(average)\n",
    "\n",
    "#( ) média\n",
    "#( ) Falso\n",
    "#(x) 75\n",
    "#( ) 557"
   ]
  },
  {
   "cell_type": "markdown",
   "metadata": {},
   "source": [
    "4. O que esse código exibe no console?\n",
    "\n",
    "\n"
   ]
  },
  {
   "cell_type": "code",
   "execution_count": null,
   "metadata": {},
   "outputs": [],
   "source": [
    "person = \"John\"\n",
    "person = person + \" Smith\"\n",
    "\n",
    "print(person)\n",
    "\n",
    "#(x) John Smith\n",
    "#( ) John\n",
    "#( ) Smith\n",
    "#( ) O Console está vazio"
   ]
  },
  {
   "cell_type": "markdown",
   "metadata": {},
   "source": [
    "5. O que esse código exibe no console?\n",
    "\n",
    "\n"
   ]
  },
  {
   "cell_type": "code",
   "execution_count": null,
   "metadata": {},
   "outputs": [],
   "source": [
    "days = 5\n",
    "days += 1\n",
    "\n",
    "print(days)\n",
    "\n",
    "#( ) 5\n",
    "#( ) 1  \n",
    "#( ) 51\n",
    "#(x) 6"
   ]
  },
  {
   "cell_type": "markdown",
   "metadata": {},
   "source": [
    "6. O que esse código exibe no console?\n",
    "\n",
    "\n"
   ]
  },
  {
   "cell_type": "code",
   "execution_count": null,
   "metadata": {},
   "outputs": [],
   "source": [
    "minutes_left = 50\n",
    "minutes_left -= 7\n",
    "\n",
    "print(minutes_left)\n",
    "\n",
    "#( ) 50\n",
    "#( ) 7  \n",
    "#( ) 57\n",
    "#(x) 43"
   ]
  },
  {
   "cell_type": "markdown",
   "metadata": {},
   "source": [
    "7. O que esse código exibe no console?\n",
    "\n",
    "\n"
   ]
  },
  {
   "cell_type": "code",
   "execution_count": null,
   "metadata": {},
   "outputs": [],
   "source": [
    "min_elapsed = 40\n",
    "min_elapsed = min_elapsed + 1\n",
    "\n",
    "print(min_elapsed)\n",
    "\n",
    "#( ) 0\n",
    "#( ) 1  \n",
    "#(x) 41\n",
    "#( ) 40"
   ]
  },
  {
   "cell_type": "markdown",
   "metadata": {},
   "source": [
    "8. Crie uma variável chamada name e atribua a ela o valor \"Jane\".\n",
    "\n",
    "\n"
   ]
  },
  {
   "cell_type": "code",
   "execution_count": null,
   "metadata": {},
   "outputs": [],
   "source": [
    "name = \"Jane\""
   ]
  },
  {
   "cell_type": "markdown",
   "metadata": {},
   "source": [
    "9. Adicione um ao min_elapsed valor da variável.\n",
    "\n",
    "\n"
   ]
  },
  {
   "cell_type": "code",
   "execution_count": null,
   "metadata": {},
   "outputs": [],
   "source": [
    "psed = 19\n",
    "min_elapsed = min_elapsed + 8\n",
    "min_elapsed = min_elapsed + 1\n",
    "\n",
    "print(min_elapsed)"
   ]
  },
  {
   "cell_type": "markdown",
   "metadata": {},
   "source": [
    "10. Atribua um valor para name que Jane seja exibido no console.\n",
    "\n",
    "\n"
   ]
  },
  {
   "cell_type": "code",
   "execution_count": null,
   "metadata": {},
   "outputs": [],
   "source": [
    "name = \"Jane\"\n",
    "name = name\n",
    "\n",
    "print(name)"
   ]
  },
  {
   "cell_type": "markdown",
   "metadata": {},
   "source": [
    "11. Atribua um valor para name que Jane seja exibido no console.\n",
    "\n",
    "\n"
   ]
  },
  {
   "cell_type": "code",
   "execution_count": null,
   "metadata": {},
   "outputs": [],
   "source": [
    "name = \"Jane\"\n",
    "name = name\n",
    "\n",
    "print(name)"
   ]
  },
  {
   "cell_type": "markdown",
   "metadata": {},
   "source": [
    "12. Exibir Dr. Jane Doe no console adicionando \"Jane Doe\" ao titlevalor da variável.\n",
    "\n",
    "\n"
   ]
  },
  {
   "cell_type": "code",
   "execution_count": null,
   "metadata": {},
   "outputs": [],
   "source": [
    "title = \"Dr.\"\n",
    "title += \" Jane Doe\"\n",
    "\n",
    "print(title)"
   ]
  },
  {
   "cell_type": "markdown",
   "metadata": {},
   "source": [
    "13. Subtraia 40 de owed para que owed tenha um valor de 0.\n",
    "\n",
    "\n"
   ]
  },
  {
   "cell_type": "code",
   "execution_count": null,
   "metadata": {},
   "outputs": [],
   "source": [
    "owed = 40\n",
    "owed -= 40\n",
    "\n",
    "print(owed)"
   ]
  },
  {
   "cell_type": "markdown",
   "metadata": {},
   "source": [
    "14. Adicione 1 ao valor da score variável.\n"
   ]
  },
  {
   "cell_type": "code",
   "execution_count": null,
   "metadata": {},
   "outputs": [],
   "source": [
    "score = 12\n",
    "score = score + 6\n",
    "score = score + 1\n",
    "\n",
    "print(score)"
   ]
  }
 ],
 "metadata": {
  "language_info": {
   "name": "python"
  },
  "orig_nbformat": 4
 },
 "nbformat": 4,
 "nbformat_minor": 2
}
