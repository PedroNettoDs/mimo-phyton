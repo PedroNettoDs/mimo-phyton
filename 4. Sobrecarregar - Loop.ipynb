{
 "cells": [
  {
   "cell_type": "markdown",
   "metadata": {},
   "source": [
    "1. Que valor esse código atribui à average variável?\n",
    "\n",
    "\n"
   ]
  },
  {
   "cell_type": "code",
   "execution_count": null,
   "metadata": {},
   "outputs": [],
   "source": [
    "average = 75\n",
    "\n",
    "#(X) False\n",
    "#( ) \"seventry five\"\n",
    "#( ) True\n",
    "#( ) 75"
   ]
  },
  {
   "cell_type": "markdown",
   "metadata": {},
   "source": [
    "2. O que significa auto-atribuir uma variável?\n",
    "\n",
    "\n"
   ]
  },
  {
   "cell_type": "code",
   "execution_count": null,
   "metadata": {},
   "outputs": [],
   "source": [
    "#(X) Atibuindo a uma variável seu próprio valor\n",
    "#( ) Atibuindo a uma variável um valor de string\n",
    "#( ) Atibuindo a uma variável um valor booleano\n",
    "#( ) Atibuindo a uma variável um valor numérico"
   ]
  },
  {
   "cell_type": "markdown",
   "metadata": {},
   "source": [
    "3. O que esse código exibe no console?\n",
    "\n",
    "\n"
   ]
  },
  {
   "cell_type": "code",
   "execution_count": null,
   "metadata": {},
   "outputs": [],
   "source": [
    "average = 75\n",
    "average = average\n",
    "\n",
    "print(average)\n",
    "\n",
    "#( ) média\n",
    "#( ) Falso\n",
    "#(x) 75\n",
    "#( ) 557"
   ]
  },
  {
   "cell_type": "markdown",
   "metadata": {},
   "source": [
    "4. O que esse código exibe no console?\n",
    "\n",
    "\n"
   ]
  },
  {
   "cell_type": "code",
   "execution_count": null,
   "metadata": {},
   "outputs": [],
   "source": [
    "person = \"John\"\n",
    "person = person + \" Smith\"\n",
    "\n",
    "print(person)\n",
    "\n",
    "#(x) John Smith\n",
    "#( ) John\n",
    "#( ) Smith\n",
    "#( ) O Console está vazio"
   ]
  },
  {
   "cell_type": "markdown",
   "metadata": {},
   "source": [
    "5. O que esse código exibe no console?\n",
    "\n",
    "\n"
   ]
  },
  {
   "cell_type": "code",
   "execution_count": null,
   "metadata": {},
   "outputs": [],
   "source": [
    "days = 5\n",
    "days += 1\n",
    "\n",
    "print(days)\n",
    "\n",
    "#( ) 5\n",
    "#( ) 1  \n",
    "#( ) 51\n",
    "#(x) 6"
   ]
  },
  {
   "cell_type": "markdown",
   "metadata": {},
   "source": [
    "6. O que esse código exibe no console?\n",
    "\n",
    "\n"
   ]
  },
  {
   "cell_type": "code",
   "execution_count": null,
   "metadata": {},
   "outputs": [],
   "source": [
    "minutes_left = 50\n",
    "minutes_left -= 7\n",
    "\n",
    "print(minutes_left)\n",
    "\n",
    "#( ) 50\n",
    "#( ) 7  \n",
    "#( ) 57\n",
    "#(x) 43"
   ]
  },
  {
   "cell_type": "markdown",
   "metadata": {},
   "source": [
    "7. O que esse código exibe no console?\n",
    "\n",
    "\n"
   ]
  },
  {
   "cell_type": "code",
   "execution_count": null,
   "metadata": {},
   "outputs": [],
   "source": [
    "min_elapsed = 40\n",
    "min_elapsed = min_elapsed + 1\n",
    "\n",
    "print(min_elapsed)\n",
    "\n",
    "#( ) 0\n",
    "#( ) 1  \n",
    "#(x) 41\n",
    "#( ) 40"
   ]
  },
  {
   "cell_type": "markdown",
   "metadata": {},
   "source": [
    "8. Crie uma variável chamada name e atribua a ela o valor \"Jane\".\n",
    "\n",
    "\n"
   ]
  },
  {
   "cell_type": "code",
   "execution_count": null,
   "metadata": {},
   "outputs": [],
   "source": [
    "name = \"Jane\""
   ]
  },
  {
   "cell_type": "markdown",
   "metadata": {},
   "source": [
    "9. Adicione um ao min_elapsed valor da variável.\n",
    "\n",
    "\n"
   ]
  },
  {
   "cell_type": "code",
   "execution_count": null,
   "metadata": {},
   "outputs": [],
   "source": [
    "psed = 19\n",
    "min_elapsed = min_elapsed + 8\n",
    "min_elapsed = min_elapsed + 1\n",
    "\n",
    "print(min_elapsed)"
   ]
  },
  {
   "cell_type": "markdown",
   "metadata": {},
   "source": [
    "10. Atribua um valor para name que Jane seja exibido no console.\n",
    "\n",
    "\n"
   ]
  },
  {
   "cell_type": "code",
   "execution_count": null,
   "metadata": {},
   "outputs": [],
   "source": [
    "name = \"Jane\"\n",
    "name = name\n",
    "\n",
    "print(name)"
   ]
  },
  {
   "cell_type": "markdown",
   "metadata": {},
   "source": [
    "11. Atribua um valor para name que Jane seja exibido no console.\n",
    "\n",
    "\n"
   ]
  },
  {
   "cell_type": "code",
   "execution_count": null,
   "metadata": {},
   "outputs": [],
   "source": [
    "name = \"Jane\"\n",
    "name = name\n",
    "\n",
    "print(name)"
   ]
  },
  {
   "cell_type": "markdown",
   "metadata": {},
   "source": [
    "12. Exibir Dr. Jane Doe no console adicionando \"Jane Doe\" ao titlevalor da variável.\n",
    "\n",
    "\n"
   ]
  },
  {
   "cell_type": "code",
   "execution_count": null,
   "metadata": {},
   "outputs": [],
   "source": [
    "title = \"Dr.\"\n",
    "title += \" Jane Doe\"\n",
    "\n",
    "print(title)"
   ]
  },
  {
   "cell_type": "markdown",
   "metadata": {},
   "source": [
    "13. Subtraia 40 de owed para que owed tenha um valor de 0.\n",
    "\n",
    "\n"
   ]
  },
  {
   "cell_type": "code",
   "execution_count": null,
   "metadata": {},
   "outputs": [],
   "source": [
    "owed = 40\n",
    "owed -= 40\n",
    "\n",
    "print(owed)"
   ]
  },
  {
   "cell_type": "markdown",
   "metadata": {},
   "source": [
    "14. Adicione 1 ao valor da score variável.\n"
   ]
  },
  {
   "cell_type": "code",
   "execution_count": null,
   "metadata": {},
   "outputs": [],
   "source": [
    "score = 12\n",
    "score = score + 6\n",
    "score = score + 1\n",
    "\n",
    "print(score)"
   ]
  },
  {
   "cell_type": "markdown",
   "metadata": {},
   "source": [
    "15. Qual é a variável do contador nomeada neste código?\n",
    "\n",
    "\n"
   ]
  },
  {
   "cell_type": "code",
   "execution_count": null,
   "metadata": {},
   "outputs": [],
   "source": [
    "year = 2020\n",
    "\n",
    "while year <= 2025: \n",
    "  print(f\"It's {year}\")\n",
    "  year += 1\n",
    "\n",
    "#(x) year\n",
    "#( ) counter\n",
    "#( ) i\n",
    "#( ) Não há variável de contador no código"
   ]
  },
  {
   "cell_type": "markdown",
   "metadata": {},
   "source": [
    "16. Qual é a condição deste while loop?\n",
    "\n",
    "\n"
   ]
  },
  {
   "cell_type": "code",
   "execution_count": null,
   "metadata": {},
   "outputs": [],
   "source": [
    "year = 2020\n",
    "\n",
    "while year <= 2025: \n",
    "  print(f\"It's {year}\")\n",
    "  year += 1\n",
    "\n",
    "#( ) while\n",
    "#(x) year <= 2025\n",
    "#( ) year += 1\n",
    "#( ) year = 2020"
   ]
  },
  {
   "cell_type": "markdown",
   "metadata": {},
   "source": [
    "17. O que esse código exibe no console?\n",
    "\n",
    "\n"
   ]
  },
  {
   "cell_type": "code",
   "execution_count": null,
   "metadata": {},
   "outputs": [],
   "source": [
    "i = 0\n",
    "\n",
    "while i < 10:\n",
    "  i += 1\n",
    "  print(i)\n",
    "\n",
    "#( ) Os números 0 através 9\n",
    "#(x) Os números 1 através 10\n",
    "#( ) Os números 1 através 9\n",
    "#( ) Os números 0 através 11"
   ]
  },
  {
   "cell_type": "markdown",
   "metadata": {},
   "source": [
    "18. O que esse código exibe no console?\n",
    "\n",
    "\n"
   ]
  },
  {
   "cell_type": "code",
   "execution_count": null,
   "metadata": {},
   "outputs": [],
   "source": [
    "counter = 1\n",
    "\n",
    "while counter < 5:\n",
    "  counter += 1\n",
    "  print(counter)\n",
    "\n",
    "#( ) Os números 1 através 4\n",
    "#( ) Os números 1 através 5\n",
    "#(x) Os números 2 através 5\n",
    "#( ) Os números 2 através 4"
   ]
  },
  {
   "cell_type": "markdown",
   "metadata": {},
   "source": [
    "19. O que esse código exibe no console?\n",
    "\n",
    "\n"
   ]
  },
  {
   "cell_type": "code",
   "execution_count": null,
   "metadata": {},
   "outputs": [],
   "source": [
    "trial = 1\n",
    "\n",
    "while trial <= 3:\n",
    "  trial += 1\n",
    "\n",
    "print(trial)\n",
    "\n",
    "#( ) 3\n",
    "#( ) 2\n",
    "#( ) 1\n",
    "#(X) 4"
   ]
  },
  {
   "cell_type": "markdown",
   "metadata": {},
   "source": [
    "20. Crie uma variável de contador chamada counter e atribua-a -1.\n",
    "\n",
    "\n"
   ]
  },
  {
   "cell_type": "code",
   "execution_count": null,
   "metadata": {},
   "outputs": [],
   "source": [
    "counter = -1\n",
    "\n",
    "while counter >= -5:\n",
    "  print(counter)\n",
    "  counter -= 1"
   ]
  },
  {
   "cell_type": "markdown",
   "metadata": {},
   "source": [
    "21. Altere a condição para verificar se number é menor que 10.\n",
    "\n",
    "\n"
   ]
  },
  {
   "cell_type": "code",
   "execution_count": null,
   "metadata": {},
   "outputs": [],
   "source": [
    "number = 7\n",
    "\n",
    "while number < 10:\n",
    "  print(number)\n",
    "  number += 1"
   ]
  },
  {
   "cell_type": "markdown",
   "metadata": {},
   "source": [
    "22. Repita o bloco de código no while loop quatro vezes, atribuindo um valor à variável i.\n",
    "\n",
    "\n"
   ]
  },
  {
   "cell_type": "code",
   "execution_count": null,
   "metadata": {},
   "outputs": [],
   "source": [
    "i = 0\n",
    "\n",
    "while i <= 3:\n",
    "  print(i)\n",
    "  i += 1"
   ]
  },
  {
   "cell_type": "markdown",
   "metadata": {},
   "source": [
    "23. Evite um loop infinito incrementando a evens variável by 2 no bloco de código.\n",
    "\n",
    "\n"
   ]
  },
  {
   "cell_type": "code",
   "execution_count": null,
   "metadata": {},
   "outputs": [],
   "source": [
    "evens = 0\n",
    "\n",
    "while evens < 10:\n",
    "    evens += 2\n",
    "    print(evens)"
   ]
  },
  {
   "cell_type": "markdown",
   "metadata": {},
   "source": [
    "24. O que esse código exibe no console?\n",
    "\n",
    "\n"
   ]
  },
  {
   "cell_type": "code",
   "execution_count": null,
   "metadata": {},
   "outputs": [],
   "source": [
    "counter = 1\n",
    "\n",
    "while counter < 5:\n",
    "  print(counter)\n",
    "  counter += 1\n",
    "\n",
    "#( ) Os números 2 através 4\n",
    "#( ) Os números 2 através 5\n",
    "#( ) Os números 1 através 5\n",
    "#(x) Os números 1 através 4"
   ]
  },
  {
   "cell_type": "markdown",
   "metadata": {},
   "source": [
    "25. Exibir 1 completamente 7 no console.\n",
    "\n",
    "\n"
   ]
  },
  {
   "cell_type": "code",
   "execution_count": null,
   "metadata": {},
   "outputs": [],
   "source": [
    "days = 0\n",
    "\n",
    "while days < 7:\n",
    "    days += 1\n",
    "    print(days)"
   ]
  }
 ],
 "metadata": {
  "language_info": {
   "name": "python"
  },
  "orig_nbformat": 4
 },
 "nbformat": 4,
 "nbformat_minor": 2
}
