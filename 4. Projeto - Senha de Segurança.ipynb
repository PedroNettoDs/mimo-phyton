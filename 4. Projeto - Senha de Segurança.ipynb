{
 "cells": [
  {
   "cell_type": "markdown",
   "metadata": {},
   "source": [
    "Um cliente nos pediu para verificar o sistema de segurança cibernética de sua empresa.\n",
    "\n",
    "Vamos criar um programa que verifique a força da senha do cliente.\n",
    "Também devemos verificar quanto tempo pode levar para um hacker invadir sua conta se ele souber os caracteres, mas não a ordem, da senha."
   ]
  },
  {
   "cell_type": "markdown",
   "metadata": {},
   "source": [
    "Vamos começar a criar um programa que avalia a força de uma senha verificando o número de permutações possíveis.\n",
    "Permutações são o número de configurações possíveis dos caracteres da senha.\n",
    "\n",
    "A força da senha dependerá do número de caracteres, mas, para nosso exemplo, usaremos uma senha de 6 caracteres."
   ]
  },
  {
   "cell_type": "markdown",
   "metadata": {},
   "source": [
    "1. Crie a variável password_length e defina 6 como seu valor.\n",
    "2. Crie a variável counter e defina 1 como seu valor. Usaremos essa variável para contar o número de vezes que entramos no loop.\n",
    "3. Crie a variável permutations e defina 1 como seu valor. Usaremos essa variável para contar o número de combinações possíveis dos caracteres."
   ]
  },
  {
   "cell_type": "code",
   "execution_count": 1,
   "metadata": {},
   "outputs": [],
   "source": [
    "password_lenght = 6\n",
    "counter = 1\n",
    "permutations = 1"
   ]
  },
  {
   "cell_type": "markdown",
   "metadata": {},
   "source": [
    "Supondo que um hacker conheça os caracteres da senha de nosso cliente, tudo o que ele precisa fazer é tentar as diferentes permutações. Podemos encontrar o número máximo de permutações que eles podem precisar multiplicando todos os números que levam ao número de caracteres, começando em 1. Por exemplo, uma senha de 4 caracteres terá 1 x 2 x 3 x 4 = 24 combinações possíveis.\n",
    "\n",
    "Vamos criar um loop para descobrir o número de permutações da senha do nosso cliente."
   ]
  },
  {
   "cell_type": "markdown",
   "metadata": {},
   "source": [
    "1. Codifique um while loop que itera enquanto counter for menor ou igual a password_length.\n",
    "2. No loop, defina permutations multiplicado por counter como o valor de permutations.\n",
    "3. Após definir o valor de permutations, aumente o valor de counter by 1.\n",
    "4. Fora do loop, imprima a seguinte f-string.\n",
    "\n",
    "f\"The possible combination of a {password_length}-character password is: {permutations}\""
   ]
  },
  {
   "cell_type": "code",
   "execution_count": 2,
   "metadata": {},
   "outputs": [
    {
     "name": "stdout",
     "output_type": "stream",
     "text": [
      "The possible combination of a 6-character password is: 720\n"
     ]
    }
   ],
   "source": [
    "password_length = 6\n",
    "counter = 1\n",
    "permutations = 1\n",
    "while counter <= password_length:\n",
    "    permutations *= counter\n",
    "    counter += 1\n",
    "print(f\"The possible combination of a {password_length}-character password is: {permutations}\")"
   ]
  },
  {
   "cell_type": "markdown",
   "metadata": {},
   "source": [
    "Agora sabemos o número de permutações possíveis. Esse também é o número máximo de tentativas que um hacker precisará para obter acesso à conta.\n",
    "\n",
    "Mas não será tão fácil! O cliente compartilhou que a conta possui um mecanismo de bloqueio para evitar hackers. A conta será bloqueada por algum tempo após cada 5 tentativas erradas.\n",
    "\n",
    "Como o número de permutações possíveis também é o número máximo de tentativas necessárias para acessar a conta, podemos usar permutations para verificar por quanto tempo a conta pode ser bloqueada. Podemos dividir as permutações pelo número de tentativas necessárias para bloquear a conta, que sabemos ser 5."
   ]
  },
  {
   "cell_type": "markdown",
   "metadata": {},
   "source": [
    "1. Crie a variável attemptse defina seu valor como 5. Sabemos que esse é o número de tentativas permitidas antes que a conta seja bloqueada.\n",
    "2. Crie a variável max_locke defina seu valor como permutationsdividido por attempts. Isso nos diz o número máximo de vezes que a conta será bloqueada.\n",
    "3. Ao dividir um valor numérico, obteremos um Float. Use int()on max_lockpara converter o float em um inteiro e defini-lo como o novo valor de max_lock.\n",
    "4. Imprima a seguinte f-string:\n",
    "\n",
    "f\"The maximum number of times the account might be locked is {max_lock} times.\""
   ]
  },
  {
   "cell_type": "code",
   "execution_count": 3,
   "metadata": {},
   "outputs": [
    {
     "name": "stdout",
     "output_type": "stream",
     "text": [
      "The maximum number of times the account might be locked is 144 times.\n"
     ]
    }
   ],
   "source": [
    "attempts = 5\n",
    "max_lock = permutations/attempts\n",
    "max_lock = int(max_lock)\n",
    "print(f\"The maximum number of times the account might be locked is {max_lock} times.\")"
   ]
  },
  {
   "cell_type": "markdown",
   "metadata": {},
   "source": [
    "O tempo de bloqueio também depende de quantas vezes a conta foi bloqueada antes. Vamos criar mais algumas variáveis ​​que armazenam essas informações."
   ]
  },
  {
   "cell_type": "markdown",
   "metadata": {},
   "source": [
    "1. Crie a variável locks e defina 0c omo seu valor. Essa variável conta o número de vezes que a conta é bloqueada.\n",
    "2. Crie a variável total_lock_time e defina 0 como seu valor. Usaremos essa variável para contar a duração total pela qual a conta está bloqueada.\n",
    "3. Crie a variável lock_time_multiplier e defina 5 como seu valor. Usamos essa variável para calcular a duração do bloqueio sempre que a conta é bloqueada."
   ]
  },
  {
   "cell_type": "code",
   "execution_count": 4,
   "metadata": {},
   "outputs": [],
   "source": [
    "locks = 0\n",
    "total_lock_time = 0\n",
    "lock_time_multiplier = 5"
   ]
  },
  {
   "cell_type": "markdown",
   "metadata": {},
   "source": [
    "Hora de testar o programa! Vamos simular um hacker tentando adivinhar a senha muitas vezes e a conta sendo bloqueada.\n",
    "\n",
    "Usaremos um forloop para isso. Toda vez que o hacker fizer uma tentativa errada, a conta será bloqueada por alguns minutos. Podemos calcular os minutos multiplicando o número de vezes que a conta foi bloqueada antes pelo lock_time_multiplier."
   ]
  },
  {
   "cell_type": "markdown",
   "metadata": {},
   "source": [
    "1. Codifique um forloop que percorra o intervalo de max_lock.\n",
    "2. No forloop, aumente o valor de locksby 1.\n",
    "3. Multiplique lockspor lock_time_multipliere use o operador de autoatribuição para adicionar e atualizar o resultado na total_lock_timevariável.\n",
    "4. Imprima a seguinte f-string dentro do loop:\n",
    "\n",
    "f\"Your account is locked for {lock_time_multiplier*locks} minutes\""
   ]
  },
  {
   "cell_type": "code",
   "execution_count": 5,
   "metadata": {},
   "outputs": [
    {
     "name": "stdout",
     "output_type": "stream",
     "text": [
      "Your account is locked for 5 minutes\n",
      "Your account is locked for 10 minutes\n",
      "Your account is locked for 15 minutes\n",
      "Your account is locked for 20 minutes\n",
      "Your account is locked for 25 minutes\n",
      "Your account is locked for 30 minutes\n",
      "Your account is locked for 35 minutes\n",
      "Your account is locked for 40 minutes\n",
      "Your account is locked for 45 minutes\n",
      "Your account is locked for 50 minutes\n",
      "Your account is locked for 55 minutes\n",
      "Your account is locked for 60 minutes\n",
      "Your account is locked for 65 minutes\n",
      "Your account is locked for 70 minutes\n",
      "Your account is locked for 75 minutes\n",
      "Your account is locked for 80 minutes\n",
      "Your account is locked for 85 minutes\n",
      "Your account is locked for 90 minutes\n",
      "Your account is locked for 95 minutes\n",
      "Your account is locked for 100 minutes\n",
      "Your account is locked for 105 minutes\n",
      "Your account is locked for 110 minutes\n",
      "Your account is locked for 115 minutes\n",
      "Your account is locked for 120 minutes\n",
      "Your account is locked for 125 minutes\n",
      "Your account is locked for 130 minutes\n",
      "Your account is locked for 135 minutes\n",
      "Your account is locked for 140 minutes\n",
      "Your account is locked for 145 minutes\n",
      "Your account is locked for 150 minutes\n",
      "Your account is locked for 155 minutes\n",
      "Your account is locked for 160 minutes\n",
      "Your account is locked for 165 minutes\n",
      "Your account is locked for 170 minutes\n",
      "Your account is locked for 175 minutes\n",
      "Your account is locked for 180 minutes\n",
      "Your account is locked for 185 minutes\n",
      "Your account is locked for 190 minutes\n",
      "Your account is locked for 195 minutes\n",
      "Your account is locked for 200 minutes\n",
      "Your account is locked for 205 minutes\n",
      "Your account is locked for 210 minutes\n",
      "Your account is locked for 215 minutes\n",
      "Your account is locked for 220 minutes\n",
      "Your account is locked for 225 minutes\n",
      "Your account is locked for 230 minutes\n",
      "Your account is locked for 235 minutes\n",
      "Your account is locked for 240 minutes\n",
      "Your account is locked for 245 minutes\n",
      "Your account is locked for 250 minutes\n",
      "Your account is locked for 255 minutes\n",
      "Your account is locked for 260 minutes\n",
      "Your account is locked for 265 minutes\n",
      "Your account is locked for 270 minutes\n",
      "Your account is locked for 275 minutes\n",
      "Your account is locked for 280 minutes\n",
      "Your account is locked for 285 minutes\n",
      "Your account is locked for 290 minutes\n",
      "Your account is locked for 295 minutes\n",
      "Your account is locked for 300 minutes\n",
      "Your account is locked for 305 minutes\n",
      "Your account is locked for 310 minutes\n",
      "Your account is locked for 315 minutes\n",
      "Your account is locked for 320 minutes\n",
      "Your account is locked for 325 minutes\n",
      "Your account is locked for 330 minutes\n",
      "Your account is locked for 335 minutes\n",
      "Your account is locked for 340 minutes\n",
      "Your account is locked for 345 minutes\n",
      "Your account is locked for 350 minutes\n",
      "Your account is locked for 355 minutes\n",
      "Your account is locked for 360 minutes\n",
      "Your account is locked for 365 minutes\n",
      "Your account is locked for 370 minutes\n",
      "Your account is locked for 375 minutes\n",
      "Your account is locked for 380 minutes\n",
      "Your account is locked for 385 minutes\n",
      "Your account is locked for 390 minutes\n",
      "Your account is locked for 395 minutes\n",
      "Your account is locked for 400 minutes\n",
      "Your account is locked for 405 minutes\n",
      "Your account is locked for 410 minutes\n",
      "Your account is locked for 415 minutes\n",
      "Your account is locked for 420 minutes\n",
      "Your account is locked for 425 minutes\n",
      "Your account is locked for 430 minutes\n",
      "Your account is locked for 435 minutes\n",
      "Your account is locked for 440 minutes\n",
      "Your account is locked for 445 minutes\n",
      "Your account is locked for 450 minutes\n",
      "Your account is locked for 455 minutes\n",
      "Your account is locked for 460 minutes\n",
      "Your account is locked for 465 minutes\n",
      "Your account is locked for 470 minutes\n",
      "Your account is locked for 475 minutes\n",
      "Your account is locked for 480 minutes\n",
      "Your account is locked for 485 minutes\n",
      "Your account is locked for 490 minutes\n",
      "Your account is locked for 495 minutes\n",
      "Your account is locked for 500 minutes\n",
      "Your account is locked for 505 minutes\n",
      "Your account is locked for 510 minutes\n",
      "Your account is locked for 515 minutes\n",
      "Your account is locked for 520 minutes\n",
      "Your account is locked for 525 minutes\n",
      "Your account is locked for 530 minutes\n",
      "Your account is locked for 535 minutes\n",
      "Your account is locked for 540 minutes\n",
      "Your account is locked for 545 minutes\n",
      "Your account is locked for 550 minutes\n",
      "Your account is locked for 555 minutes\n",
      "Your account is locked for 560 minutes\n",
      "Your account is locked for 565 minutes\n",
      "Your account is locked for 570 minutes\n",
      "Your account is locked for 575 minutes\n",
      "Your account is locked for 580 minutes\n",
      "Your account is locked for 585 minutes\n",
      "Your account is locked for 590 minutes\n",
      "Your account is locked for 595 minutes\n",
      "Your account is locked for 600 minutes\n",
      "Your account is locked for 605 minutes\n",
      "Your account is locked for 610 minutes\n",
      "Your account is locked for 615 minutes\n",
      "Your account is locked for 620 minutes\n",
      "Your account is locked for 625 minutes\n",
      "Your account is locked for 630 minutes\n",
      "Your account is locked for 635 minutes\n",
      "Your account is locked for 640 minutes\n",
      "Your account is locked for 645 minutes\n",
      "Your account is locked for 650 minutes\n",
      "Your account is locked for 655 minutes\n",
      "Your account is locked for 660 minutes\n",
      "Your account is locked for 665 minutes\n",
      "Your account is locked for 670 minutes\n",
      "Your account is locked for 675 minutes\n",
      "Your account is locked for 680 minutes\n",
      "Your account is locked for 685 minutes\n",
      "Your account is locked for 690 minutes\n",
      "Your account is locked for 695 minutes\n",
      "Your account is locked for 700 minutes\n",
      "Your account is locked for 705 minutes\n",
      "Your account is locked for 710 minutes\n",
      "Your account is locked for 715 minutes\n",
      "Your account is locked for 720 minutes\n"
     ]
    }
   ],
   "source": [
    "for i in range(max_lock):\n",
    "    locks += 1\n",
    "    total_lock_time += lock_time_multiplier * locks\n",
    "    print(f\"Your account is locked for {lock_time_multiplier*locks} minutes\")"
   ]
  },
  {
   "cell_type": "markdown",
   "metadata": {},
   "source": [
    "Simulamos o bloqueio da conta e o programa parece estar funcionando. Por fim, vamos notificar o cliente por quanto tempo a conta ficou bloqueada."
   ]
  },
  {
   "cell_type": "markdown",
   "metadata": {},
   "source": [
    "1. Imprima a seguinte f-string fora do forloop:\n",
    "\n",
    "f\"Assuming the hacker only got the password right with the last possible combination, your account would have been locked for {total_lock_time} minutes in total.\""
   ]
  },
  {
   "cell_type": "code",
   "execution_count": 6,
   "metadata": {},
   "outputs": [
    {
     "name": "stdout",
     "output_type": "stream",
     "text": [
      "Assuming the hacker only got the password right with the last possible combination, your account would have been locked for 52200 minutes in total.\n"
     ]
    }
   ],
   "source": [
    "print(f\"Assuming the hacker only got the password right with the last possible combination, your account would have been locked for {total_lock_time} minutes in total.\")"
   ]
  }
 ],
 "metadata": {
  "kernelspec": {
   "display_name": "Python 3",
   "language": "python",
   "name": "python3"
  },
  "language_info": {
   "codemirror_mode": {
    "name": "ipython",
    "version": 3
   },
   "file_extension": ".py",
   "mimetype": "text/x-python",
   "name": "python",
   "nbconvert_exporter": "python",
   "pygments_lexer": "ipython3",
   "version": "3.11.4"
  },
  "orig_nbformat": 4
 },
 "nbformat": 4,
 "nbformat_minor": 2
}
