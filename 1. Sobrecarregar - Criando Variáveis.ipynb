{
 "cells": [
  {
   "cell_type": "markdown",
   "metadata": {},
   "source": [
    "1. O que esse código exibe?"
   ]
  },
  {
   "cell_type": "code",
   "execution_count": 3,
   "metadata": {},
   "outputs": [
    {
     "name": "stdout",
     "output_type": "stream",
     "text": [
      "movie\n"
     ]
    }
   ],
   "source": [
    "movie = \"Mulan\"\n",
    "print(\"movie\")\n",
    "\n",
    "#(X) movie\n",
    "#( ) (\"movie\")\n",
    "#( ) Nada\n",
    "#( ) Mulan"
   ]
  },
  {
   "cell_type": "markdown",
   "metadata": {},
   "source": [
    "2. Que valor essa variável armazena?"
   ]
  },
  {
   "cell_type": "code",
   "execution_count": 4,
   "metadata": {},
   "outputs": [],
   "source": [
    "next_appointment = \"interview\"\n",
    "\n",
    "#( ) next_appointment\n",
    "#( ) interview\n",
    "#(x) \"Interview\"\n",
    "#( ) \"next_appointment\""
   ]
  },
  {
   "cell_type": "markdown",
   "metadata": {},
   "source": [
    "3. Codifique um nome descritivo de variável de caso de Phyton para armazenar esta marca de carro."
   ]
  },
  {
   "cell_type": "code",
   "execution_count": 5,
   "metadata": {},
   "outputs": [],
   "source": [
    "X = \"Tesla\"\n",
    "\n",
    "#(x) car_brand\n",
    "#( ) car brand\n",
    "#( ) tesla car\n",
    "\n",
    "car_brand = \"Tesla\""
   ]
  },
  {
   "cell_type": "markdown",
   "metadata": {},
   "source": [
    "4. Exibir step_1 e, em seguida step_2,"
   ]
  },
  {
   "cell_type": "code",
   "execution_count": 6,
   "metadata": {},
   "outputs": [
    {
     "name": "stdout",
     "output_type": "stream",
     "text": [
      "sift flour\n",
      "mix in sugar\n"
     ]
    }
   ],
   "source": [
    "step_1 = \"sift flour\"\n",
    "step_2 = \"mix in sugar\"\n",
    "\n",
    "print(step_1)\n",
    "print(step_2)"
   ]
  },
  {
   "cell_type": "markdown",
   "metadata": {},
   "source": [
    "5. O que isso exibe no console?"
   ]
  },
  {
   "cell_type": "code",
   "execution_count": 7,
   "metadata": {},
   "outputs": [
    {
     "name": "stdout",
     "output_type": "stream",
     "text": [
      "connect to power\n",
      "press the upload button\n"
     ]
    }
   ],
   "source": [
    "print(\"connect to power\")\n",
    "print(\"press the upload button\")\n",
    "\n",
    "#( ) press the upload button, connect to power\n",
    "#( ) Nada\n",
    "#(x) connect to power, press the upload button\n",
    "#( ) Apenas connect to power"
   ]
  },
  {
   "cell_type": "markdown",
   "metadata": {},
   "source": [
    "6. Exibir \"One new message\" no console."
   ]
  },
  {
   "cell_type": "code",
   "execution_count": 8,
   "metadata": {},
   "outputs": [
    {
     "name": "stdout",
     "output_type": "stream",
     "text": [
      "One new message\n"
     ]
    }
   ],
   "source": [
    "print(\"One new message\")"
   ]
  },
  {
   "cell_type": "markdown",
   "metadata": {},
   "source": [
    "7. Armazene o valor da string \"blue\" na variável favorite_color "
   ]
  },
  {
   "cell_type": "code",
   "execution_count": 9,
   "metadata": {},
   "outputs": [],
   "source": [
    "favorite_color = \"blue\""
   ]
  },
  {
   "cell_type": "markdown",
   "metadata": {},
   "source": [
    "8. Exiba a variável astronaut."
   ]
  },
  {
   "cell_type": "code",
   "execution_count": 10,
   "metadata": {},
   "outputs": [
    {
     "name": "stdout",
     "output_type": "stream",
     "text": [
      "Kalpana Chawla\n"
     ]
    }
   ],
   "source": [
    "astronaut = \"Kalpana Chawla\"\n",
    "print(astronaut)"
   ]
  },
  {
   "cell_type": "markdown",
   "metadata": {},
   "source": [
    "9. Como sabemos que a variável answer armazena uma string?"
   ]
  },
  {
   "cell_type": "code",
   "execution_count": 11,
   "metadata": {},
   "outputs": [],
   "source": [
    "answer = \"47\"\n",
    "\n",
    "#(x) Por causa das citações ao redor \"47\"\n",
    "#( ) Não podemos saber se ele armazena uma string\n",
    "#( ) Por causa do nome da variável\n",
    "#( ) Não armazena uma string"
   ]
  },
  {
   "cell_type": "markdown",
   "metadata": {},
   "source": [
    "10. O que há de errado com esse nome de variável?"
   ]
  },
  {
   "cell_type": "code",
   "execution_count": 12,
   "metadata": {},
   "outputs": [
    {
     "ename": "SyntaxError",
     "evalue": "invalid syntax (1264341534.py, line 1)",
     "output_type": "error",
     "traceback": [
      "\u001b[1;36m  Cell \u001b[1;32mIn[12], line 1\u001b[1;36m\u001b[0m\n\u001b[1;33m    new_ entry\u001b[0m\n\u001b[1;37m         ^\u001b[0m\n\u001b[1;31mSyntaxError\u001b[0m\u001b[1;31m:\u001b[0m invalid syntax\n"
     ]
    }
   ],
   "source": [
    "new_ entry\n",
    "\n",
    "#( ) new e entry deve ser capitalizado\n",
    "#( ) Os nomes das variáveis não podem conter sublinhados _\n",
    "#(x) Os nomes das variáveis não podem conter espaços\n",
    "#( ) Não há nada de errado com o nome da variável"
   ]
  },
  {
   "cell_type": "markdown",
   "metadata": {},
   "source": [
    "11. Dê um valor de string para esta variável."
   ]
  },
  {
   "cell_type": "code",
   "execution_count": null,
   "metadata": {},
   "outputs": [],
   "source": [
    "time = x\n",
    "\n",
    "#( ) morning\n",
    "#(x) \"morning\"\"\n",
    "#( ) 7"
   ]
  },
  {
   "cell_type": "markdown",
   "metadata": {},
   "source": [
    "12. O que esse código exibe?"
   ]
  },
  {
   "cell_type": "code",
   "execution_count": null,
   "metadata": {},
   "outputs": [],
   "source": [
    "print(\"Good morning!\")\n",
    "\n",
    "#( ) Nada\n",
    "#(x) Good morning!\n",
    "#( ) \"Good morning!\"\n",
    "#( ) Good"
   ]
  }
 ],
 "metadata": {
  "kernelspec": {
   "display_name": "Python 3",
   "language": "python",
   "name": "python3"
  },
  "language_info": {
   "codemirror_mode": {
    "name": "ipython",
    "version": 3
   },
   "file_extension": ".py",
   "mimetype": "text/x-python",
   "name": "python",
   "nbconvert_exporter": "python",
   "pygments_lexer": "ipython3",
   "version": "3.11.4"
  },
  "orig_nbformat": 4
 },
 "nbformat": 4,
 "nbformat_minor": 2
}
