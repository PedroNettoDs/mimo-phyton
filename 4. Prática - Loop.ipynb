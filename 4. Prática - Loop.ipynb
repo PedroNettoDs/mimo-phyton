{
 "cells": [
  {
   "cell_type": "markdown",
   "metadata": {},
   "source": [
    "1. Subtraia 50 do valor da variável.\n",
    "\n",
    "\n"
   ]
  },
  {
   "cell_type": "code",
   "execution_count": null,
   "metadata": {},
   "outputs": [],
   "source": [
    "wallet = 231\n",
    "wallet -= 50\n",
    "\n",
    "print(wallet)"
   ]
  },
  {
   "cell_type": "markdown",
   "metadata": {},
   "source": [
    "2. O que esse código exibe no console?\n",
    "\n",
    "\n"
   ]
  },
  {
   "cell_type": "code",
   "execution_count": null,
   "metadata": {},
   "outputs": [],
   "source": [
    "recipe = \"flour salt\"\n",
    "recipe = recipe + \" pepper\"\n",
    "\n",
    "print(recipe)\n",
    "\n",
    "#( ) pepper flour salt\n",
    "#(x) flour salt pepper\n",
    "#( ) list pepper"
   ]
  },
  {
   "cell_type": "markdown",
   "metadata": {},
   "source": [
    "3. O que esse código exibe no console?\n",
    "\n",
    "\n"
   ]
  },
  {
   "cell_type": "code",
   "execution_count": null,
   "metadata": {},
   "outputs": [],
   "source": [
    "languages = \"Python\"\n",
    "languages += \" SQL\"\n",
    "\n",
    "print(languages)\n",
    "\n",
    "#( ) SQL Phyton\n",
    "#(x) Phyton SQL\n",
    "#( ) Nothing is printed in the console"
   ]
  },
  {
   "cell_type": "markdown",
   "metadata": {},
   "source": [
    "4. Por que a autoatribuição é um conceito de programação tão poderoso?\n",
    "\n",
    " "
   ]
  },
  {
   "cell_type": "code",
   "execution_count": null,
   "metadata": {},
   "outputs": [],
   "source": [
    "#( ) Porque é necessário criar condicionais\n",
    "#(x) Porque nos permite rastrear dados que mudam com o tempo\n",
    "#( ) Porque é preciso agregar valores"
   ]
  },
  {
   "cell_type": "markdown",
   "metadata": {},
   "source": [
    "5. Subtraia um do lives valor da variável.\n",
    "\n",
    "\n"
   ]
  },
  {
   "cell_type": "code",
   "execution_count": null,
   "metadata": {},
   "outputs": [],
   "source": [
    "lives = 2\n",
    "lives = lives - 1\n",
    "print(\"Lives left:\")\n",
    "print(lives)\n",
    "\n",
    "lives = lives - 1\n",
    "\n",
    "print(\"Lives left:\")\n",
    "print(lives)\n",
    "print(\"Game over!\")"
   ]
  },
  {
   "cell_type": "markdown",
   "metadata": {},
   "source": [
    "6. O que é um loop infinito?\n",
    "\n",
    "\n"
   ]
  },
  {
   "cell_type": "code",
   "execution_count": null,
   "metadata": {},
   "outputs": [],
   "source": [
    "#( ) Um loop que pula seu bloco de código\n",
    "#( ) Um loop que executa seu bloco de código uma vez\n",
    "#(x) Um loop que executa seu bloco de código repetidamente para sempre"
   ]
  },
  {
   "cell_type": "markdown",
   "metadata": {},
   "source": [
    "7. Qual palavra-chave usamos para criar um loop while?\n",
    "\n",
    "\n"
   ]
  },
  {
   "cell_type": "code",
   "execution_count": null,
   "metadata": {},
   "outputs": [],
   "source": [
    "#( ) print\n",
    "#( ) if\n",
    "#(x) while"
   ]
  },
  {
   "cell_type": "markdown",
   "metadata": {},
   "source": [
    "8. Adicione a palavra-chave ausente para criar um while loop.\n",
    "\n",
    "\n"
   ]
  },
  {
   "cell_type": "code",
   "execution_count": null,
   "metadata": {},
   "outputs": [],
   "source": [
    "while False: \n",
    "  print(\"Prevent new entries\")"
   ]
  },
  {
   "cell_type": "markdown",
   "metadata": {},
   "source": [
    "9. Crie um loop infinito.\n",
    "\n",
    "\n"
   ]
  },
  {
   "cell_type": "code",
   "execution_count": null,
   "metadata": {},
   "outputs": [],
   "source": [
    "while True:\n",
    "\n",
    "  print(\"Searching for Wifi\")"
   ]
  },
  {
   "cell_type": "markdown",
   "metadata": {},
   "source": [
    "10. Ignore o bloco de código do while loop definindo a condição como False.\n",
    "\n",
    "\n"
   ]
  },
  {
   "cell_type": "code",
   "execution_count": null,
   "metadata": {},
   "outputs": [],
   "source": [
    "while False:\n",
    "\n",
    "  print(\"Updating entries..\")"
   ]
  },
  {
   "cell_type": "markdown",
   "metadata": {},
   "source": [
    "11. Dentro do bloco de código, interrompa o loop após executar seu bloco de código definindo more_alerts como False.\n"
   ]
  },
  {
   "cell_type": "code",
   "execution_count": null,
   "metadata": {},
   "outputs": [],
   "source": [
    "more_alerts = True\n",
    "\n",
    "while more_alerts == True:\n",
    "  print(\"New alerts\")\n",
    "    more_alerts = False"
   ]
  },
  {
   "cell_type": "markdown",
   "metadata": {},
   "source": [
    "12. Certifique-se de que esse while loop repita seu bloco de código enquanto is_electric for igual a True."
   ]
  },
  {
   "cell_type": "code",
   "execution_count": null,
   "metadata": {},
   "outputs": [],
   "source": [
    "is_electric = True\n",
    "\n",
    "while is_electric == True:\n",
    "\n",
    "  print(\"Boogie woogie woogie\")\n",
    "  is_electric = False"
   ]
  },
  {
   "cell_type": "markdown",
   "metadata": {},
   "source": [
    "13. O que há de errado com este código?\n",
    "\n",
    "\n"
   ]
  },
  {
   "cell_type": "code",
   "execution_count": null,
   "metadata": {},
   "outputs": [],
   "source": [
    "while is_loading:\n",
    "  is_loading = False\n",
    "  print(\"Waiting for data...\")\n",
    "\n",
    "#( ) O while loop tem uma declaração de exibição dentro dele\n",
    "#(X) A variável está na condição antes de criá-la\n",
    "#( ) is_loading não é um nome de variável válido"
   ]
  },
  {
   "cell_type": "markdown",
   "metadata": {},
   "source": [
    "14. Para executar o loop, atribua Truea is_looping fora do bloco de código.\n",
    "\n",
    "\n"
   ]
  },
  {
   "cell_type": "code",
   "execution_count": null,
   "metadata": {},
   "outputs": [],
   "source": [
    "is_looping = True\n",
    "\n",
    "while is_looping == True:\n",
    "  print(\"and again!\")\n",
    "  is_looping = False"
   ]
  },
  {
   "cell_type": "markdown",
   "metadata": {},
   "source": [
    "15. Como sabemos que esse loop não para?\n",
    "\n",
    "\n"
   ]
  },
  {
   "cell_type": "code",
   "execution_count": null,
   "metadata": {},
   "outputs": [],
   "source": [
    "keep_going = True\n",
    "\n",
    "while keep_going == True:\n",
    "  print(\"We will rock you!\")\n",
    "  keep_going = True\n",
    "\n",
    "#(x) Porque a keep_going variável não é atualizada False dentro do bloco de código\n",
    "#( ) Como a keep_going variável é atualizada para False\n",
    "#( ) Porque todos while os loops não param"
   ]
  },
  {
   "cell_type": "markdown",
   "metadata": {},
   "source": [
    "16. Qual é a variável do contador nomeada neste código?\n",
    "\n",
    "\n"
   ]
  },
  {
   "cell_type": "code",
   "execution_count": null,
   "metadata": {},
   "outputs": [],
   "source": [
    "i = 1\n",
    "\n",
    "while i < 5: \n",
    "  print(i)\n",
    "  i += 1\n",
    "\n",
    "#( ) counter\n",
    "#(X) i\n",
    "#( ) Não há variável de contador no código"
   ]
  },
  {
   "cell_type": "markdown",
   "metadata": {},
   "source": [
    "17. Use a counter variável para definir a condição como menor que 11.\n",
    "\n",
    "\n"
   ]
  },
  {
   "cell_type": "code",
   "execution_count": null,
   "metadata": {},
   "outputs": [],
   "source": [
    "counter = 3\n",
    "\n",
    "while counter < 11:\n",
    "  print(\"Updating payroll\")\n",
    "  counter += 1"
   ]
  },
  {
   "cell_type": "markdown",
   "metadata": {},
   "source": [
    "18. O que esse código exibe no console?\n",
    "\n",
    "\n"
   ]
  },
  {
   "cell_type": "code",
   "execution_count": null,
   "metadata": {},
   "outputs": [],
   "source": [
    "counter = 1\n",
    "\n",
    "while counter < 2:\n",
    "  counter += 1\n",
    "\n",
    "print(counter)\n",
    "\n",
    "#(X) 2\n",
    "#( ) 3\n",
    "#( ) 1"
   ]
  },
  {
   "cell_type": "markdown",
   "metadata": {},
   "source": [
    "19. O que esse código exibe no console?\n",
    "\n",
    "\n"
   ]
  },
  {
   "cell_type": "code",
   "execution_count": null,
   "metadata": {},
   "outputs": [],
   "source": [
    "counter = 0\n",
    "\n",
    "while counter < 3:\n",
    "  print(counter)\n",
    "  counter += 1\n",
    "\n",
    "#( ) Os números 1,2 e 3\n",
    "#( ) Os números 0,1,2 e 3\n",
    "#(x) Os números 0 e 1,2"
   ]
  },
  {
   "cell_type": "markdown",
   "metadata": {},
   "source": [
    "20. 1 Exiba o número 3 definindo a condição como number <= 3.\n",
    "\n",
    "\n"
   ]
  },
  {
   "cell_type": "code",
   "execution_count": null,
   "metadata": {},
   "outputs": [],
   "source": [
    "number = 1\n",
    "\n",
    "while number <= 3:\n",
    "  print(number)\n",
    "  number += 1"
   ]
  },
  {
   "cell_type": "markdown",
   "metadata": {},
   "source": [
    "21. Dentro do for bloco de código do loop, adicione ~ à line variável usando o += operador.\n",
    "\n",
    "\n"
   ]
  },
  {
   "cell_type": "code",
   "execution_count": null,
   "metadata": {},
   "outputs": [],
   "source": [
    "print(\"*\")\n",
    "\n",
    "line = \"\"\n",
    "\n",
    "for i in range(4):\n",
    "  line += \"~\"\n",
    "  print(line)"
   ]
  },
  {
   "cell_type": "markdown",
   "metadata": {},
   "source": [
    "22. Qual variável é a variável contadora do for loop?\n",
    "\n",
    "\n"
   ]
  },
  {
   "cell_type": "code",
   "execution_count": null,
   "metadata": {},
   "outputs": [],
   "source": [
    "line = 0\n",
    "\n",
    "for i in range(3):\n",
    "  line += i\n",
    "\n",
    "print(line)\n",
    "\n",
    "#(X) i\n",
    "#( ) line\n",
    "#( ) in"
   ]
  },
  {
   "cell_type": "markdown",
   "metadata": {},
   "source": [
    "23. Qual é o nome da variável do contador neste código?\n",
    "\n",
    "\n"
   ]
  },
  {
   "cell_type": "code",
   "execution_count": null,
   "metadata": {},
   "outputs": [],
   "source": [
    "print(\"Zero to four:\")\n",
    "\n",
    "for repetition in range(5):\n",
    "  print(repetition)\n",
    "\n",
    "#( ) i\n",
    "#( ) Zero to five:\n",
    "#(x) repetition"
   ]
  },
  {
   "cell_type": "markdown",
   "metadata": {},
   "source": [
    "24. O que esse código exibe no console?\n",
    "\n",
    "\n"
   ]
  },
  {
   "cell_type": "code",
   "execution_count": null,
   "metadata": {},
   "outputs": [],
   "source": [
    "for i in range(3):\n",
    "  print(\"Polly wants a cracker!\")\n",
    "  \n",
    "#( ) Polly wants a cracker! três vezes\n",
    "#( ) Os números 0 através 3\n",
    "#(x) Os números 1 através 3"
   ]
  },
  {
   "cell_type": "markdown",
   "metadata": {},
   "source": [
    "25. Como especificamos o número de vezes que queremos que um loop for itere?\n",
    "\n",
    "\n"
   ]
  },
  {
   "cell_type": "code",
   "execution_count": null,
   "metadata": {},
   "outputs": [],
   "source": [
    "#(x) Adicionando um número dentro range()\n",
    "#( ) Não podemos especificar o número de repetições que queremos que um loop for complete\n",
    "#( ) Ao criar uma variável de contador"
   ]
  }
 ],
 "metadata": {
  "kernelspec": {
   "display_name": "Python 3",
   "language": "python",
   "name": "python3"
  },
  "language_info": {
   "codemirror_mode": {
    "name": "ipython",
    "version": 3
   },
   "file_extension": ".py",
   "mimetype": "text/x-python",
   "name": "python",
   "nbconvert_exporter": "python",
   "pygments_lexer": "ipython3",
   "version": "3.11.4"
  },
  "orig_nbformat": 4
 },
 "nbformat": 4,
 "nbformat_minor": 2
}
