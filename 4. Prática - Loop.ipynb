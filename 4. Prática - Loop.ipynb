{
 "cells": [
  {
   "cell_type": "markdown",
   "metadata": {},
   "source": [
    "1. Subtraia 50 do valor da variável."
   ]
  },
  {
   "cell_type": "code",
   "execution_count": null,
   "metadata": {},
   "outputs": [],
   "source": [
    "y = 231\n",
    "y -= 50\n",
    "\n",
    "print(y)"
   ]
  },
  {
   "cell_type": "markdown",
   "metadata": {},
   "source": [
    "2. O que esse código exibe no console?\n",
    "\n",
    "\n"
   ]
  },
  {
   "cell_type": "code",
   "execution_count": null,
   "metadata": {},
   "outputs": [],
   "source": [
    "recipe = \"flour salt\"\n",
    "recipe = recipe + \" pepper\"\n",
    "\n",
    "print(recipe)\n",
    "\n",
    "#(X) flour salt pepper\n",
    "#( ) list pepper\n",
    "#( ) pepper flour salt"
   ]
  },
  {
   "cell_type": "markdown",
   "metadata": {},
   "source": [
    "3. O que esse código exibe no console?\n",
    "\n",
    "\n"
   ]
  },
  {
   "cell_type": "code",
   "execution_count": null,
   "metadata": {},
   "outputs": [],
   "source": [
    "languages = \"Python\"\n",
    "languages += \" SQL\"\n",
    "\n",
    "print(languages)\n",
    "\n",
    "#( ) Nothing isprinted in the console\n",
    "#( ) SQL Phyton\n",
    "#(x) Phyton SQL"
   ]
  },
  {
   "cell_type": "markdown",
   "metadata": {},
   "source": [
    "4. Por que a autoatribuição é um conceito de programação tão poderoso?"
   ]
  },
  {
   "cell_type": "code",
   "execution_count": null,
   "metadata": {},
   "outputs": [],
   "source": [
    "#(x) Porque nos permite rastrear dados que mudam com o tempo\n",
    "#( ) Porque é preciso agregar valores\n",
    "#( ) Porque é necessário criar condicionais"
   ]
  },
  {
   "cell_type": "markdown",
   "metadata": {},
   "source": [
    "5. Subtraia um do livesvalor da variável.\n",
    "\n",
    "\n"
   ]
  },
  {
   "cell_type": "code",
   "execution_count": null,
   "metadata": {},
   "outputs": [],
   "source": [
    "lives = 2\n",
    "lives = lives - 1\n",
    "print(\"Lives left:\")\n",
    "print(lives)\n",
    "\n",
    "lives = lives - 1\n",
    "print(\"Lives left:\")\n",
    "print(lives)\n",
    "print(\"Game over!\")"
   ]
  },
  {
   "cell_type": "markdown",
   "metadata": {},
   "source": [
    "6. O que é um loop infinito?\n",
    "\n",
    "\n"
   ]
  },
  {
   "cell_type": "code",
   "execution_count": null,
   "metadata": {},
   "outputs": [],
   "source": [
    "#( ) Um loop que pula seu bloco de código\n",
    "#(X) Um loop que executa seu bloco de código repetidamente para sempre\n",
    "#( ) Um loop que executa seu bloco de código uma vez"
   ]
  },
  {
   "cell_type": "markdown",
   "metadata": {},
   "source": [
    "7. Qual palavra-chave usamos para criar um loop while?\n",
    "\n",
    "\n"
   ]
  },
  {
   "cell_type": "code",
   "execution_count": null,
   "metadata": {},
   "outputs": [],
   "source": [
    "#( ) print\n",
    "#( ) if\n",
    "#(x) while"
   ]
  },
  {
   "cell_type": "markdown",
   "metadata": {},
   "source": [
    "8. Adicione a palavra-chave ausente para criar um while loop.\n",
    "\n",
    "\n"
   ]
  },
  {
   "cell_type": "code",
   "execution_count": null,
   "metadata": {},
   "outputs": [],
   "source": [
    "while False: \n",
    "  print(\"Prevent new entries\")"
   ]
  },
  {
   "cell_type": "markdown",
   "metadata": {},
   "source": [
    "9. Crie um loop infinito.\n",
    "\n",
    "\n"
   ]
  },
  {
   "cell_type": "code",
   "execution_count": null,
   "metadata": {},
   "outputs": [],
   "source": [
    "while True:\n",
    "  print(\"Searching for Wifi\")"
   ]
  },
  {
   "cell_type": "markdown",
   "metadata": {},
   "source": [
    "10. Ignore o bloco de código do while loop definindo a condição como False."
   ]
  },
  {
   "cell_type": "code",
   "execution_count": null,
   "metadata": {},
   "outputs": [],
   "source": [
    "while False:\n",
    "  print(\"Updating entries..\")"
   ]
  },
  {
   "cell_type": "markdown",
   "metadata": {},
   "source": [
    "11. Dentro do bloco de código, interrompa o loop após executar seu bloco de código definindo more_alerts como False."
   ]
  },
  {
   "cell_type": "code",
   "execution_count": null,
   "metadata": {},
   "outputs": [],
   "source": [
    "more_alerts = True\n",
    "\n",
    "while more_alerts == True:\n",
    "  print(\"New alerts\")\n",
    "\n",
    "more_alerts = False"
   ]
  },
  {
   "cell_type": "markdown",
   "metadata": {},
   "source": [
    "12. Certifique-se de que esse while loop repita seu bloco de código enquanto is_electric for igual a True."
   ]
  },
  {
   "cell_type": "code",
   "execution_count": null,
   "metadata": {},
   "outputs": [],
   "source": [
    "is_electric = True\n",
    "\n",
    "while is_electric == True:\n",
    "\n",
    "  print(\"Boogie woogie woogie\")\n",
    "  is_electric = False"
   ]
  },
  {
   "cell_type": "markdown",
   "metadata": {},
   "source": [
    "13. O que há de errado com este código?\n",
    "\n",
    "\n"
   ]
  },
  {
   "cell_type": "code",
   "execution_count": null,
   "metadata": {},
   "outputs": [],
   "source": [
    "while is_loading:\n",
    "  is_loading = False\n",
    "  print(\"Waiting for data...\")\n",
    "\n",
    "#(x) A variável está na condição antes de criá-la\n",
    "#( ) O while loop tem uma declaração de exibição dentro dele\n",
    "#( ) is_loading não é um nome de varável válido"
   ]
  },
  {
   "cell_type": "markdown",
   "metadata": {},
   "source": [
    "14. Para executar o loop, atribua Truea is_looping fora do bloco de código.\n",
    "\n",
    "\n"
   ]
  },
  {
   "cell_type": "code",
   "execution_count": null,
   "metadata": {},
   "outputs": [],
   "source": [
    "is_looping = True\n",
    "\n",
    "while is_looping == True:\n",
    "  print(\"and again!\")\n",
    "  is_looping = False"
   ]
  },
  {
   "cell_type": "markdown",
   "metadata": {},
   "source": [
    "15. Como sabemos que esse loop não para?\n",
    "\n",
    "\n"
   ]
  },
  {
   "cell_type": "code",
   "execution_count": null,
   "metadata": {},
   "outputs": [],
   "source": [
    "keep_going = True\n",
    "\n",
    "while keep_going == True:\n",
    "  print(\"We will rock you!\")\n",
    "  keep_going = True\n",
    "\n",
    "#( ) Porque todos while os loops não param\n",
    "#(X) Porque a keep_going variável não é atualizado False dentro do bloco de código\n",
    "#( ) Como a keep_going variável é atualizada para False"
   ]
  }
 ],
 "metadata": {
  "kernelspec": {
   "display_name": "Python 3",
   "language": "python",
   "name": "python3"
  },
  "language_info": {
   "codemirror_mode": {
    "name": "ipython",
    "version": 3
   },
   "file_extension": ".py",
   "mimetype": "text/x-python",
   "name": "python",
   "nbconvert_exporter": "python",
   "pygments_lexer": "ipython3",
   "version": "3.11.4"
  },
  "orig_nbformat": 4
 },
 "nbformat": 4,
 "nbformat_minor": 2
}
