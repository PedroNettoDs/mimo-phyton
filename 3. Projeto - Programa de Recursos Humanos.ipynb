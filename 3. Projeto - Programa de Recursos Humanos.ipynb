{
 "cells": [
  {
   "cell_type": "markdown",
   "metadata": {},
   "source": [
    "Projeto:\n",
    "Programa de Recursos Humanos"
   ]
  },
  {
   "cell_type": "markdown",
   "metadata": {},
   "source": [
    "Nosso departamento de Recursos Humanos está muito ocupado e eles nos pediram para ajudar a agilizar o processo de contratação.\n",
    "\n",
    "Vamos codificar um programa que decide se deve ou não contratar um candidato, dependendo da localização e pontuação."
   ]
  },
  {
   "cell_type": "markdown",
   "metadata": {},
   "source": [
    "Linda, a gerente de recursos humanos, compartilhou que sua decisão de contratação é baseada na pontuação da avaliação do candidato e também em sua localização, já que é um cargo baseado em escritório. Vamos criar variáveis ​​para manter esses valores. Por enquanto, armazenaremos dados falsos, mas depois o departamento de RH incluirá dados reais dos candidatos."
   ]
  },
  {
   "cell_type": "markdown",
   "metadata": {},
   "source": [
    "1. Crie uma assessment_score variável e defina 85 como seu valor.\n",
    "2. Crie uma location variável e defina \"Canada\" como seu valor."
   ]
  },
  {
   "cell_type": "code",
   "execution_count": null,
   "metadata": {},
   "outputs": [],
   "source": [
    "assessment_score = 85\n",
    "location = \"Canada\""
   ]
  },
  {
   "cell_type": "markdown",
   "metadata": {},
   "source": [
    "A empresa está procurando aumentar a equipe dos EUA, portanto, os candidatos elegíveis devem estar baseados nos EUA. Além disso, os candidatos devem ter uma pontuação de avaliação de pelo menos 75. Vamos verificar se nosso candidato simulado atende aos requisitos."
   ]
  },
  {
   "cell_type": "markdown",
   "metadata": {},
   "source": [
    "1. Codifique um bloco if que verifica se locationé igual a \"US\" e se assessment_score é maior ou igual a 75.\n",
    "2. Se as condições forem atendidas, imprima a seguinte string f dentro do bloco if:"
   ]
  },
  {
   "cell_type": "code",
   "execution_count": null,
   "metadata": {},
   "outputs": [],
   "source": [
    "if location == \"US\" and assessment_score >= 75:\n",
    "  print(f\"Your assessment score is {assessment_score}/100! You're hired!\")"
   ]
  },
  {
   "cell_type": "markdown",
   "metadata": {},
   "source": [
    "Ok, imprimimos uma mensagem para os candidatos que queremos contratar. Agora, vamos imprimir uma mensagem para os candidatos que não são adequados."
   ]
  },
  {
   "cell_type": "markdown",
   "metadata": {},
   "source": [
    "1. Codifique um bloco else após o bloco if.\n",
    "2. Imprima a seguinte string f dentro do bloco else:"
   ]
  },
  {
   "cell_type": "code",
   "execution_count": null,
   "metadata": {},
   "outputs": [],
   "source": [
    "if location == \"US\" and assessment_score >= 75:\n",
    "  print(f\"Your assessment score is {assessment_score}/100! You're hired!\")\n",
    "else:\n",
    "  print(f\"Thank you for your interest, we regret to inform you that we will not be moving forward with your application.\")"
   ]
  },
  {
   "cell_type": "markdown",
   "metadata": {},
   "source": [
    "Linda, do RH, acabou de ligar e nos informar que abriremos um escritório no Canadá. Candidatos do Canadá agora também podem ser contratados. Vamos adicionar esta nova condição ao nosso programa."
   ]
  },
  {
   "cell_type": "markdown",
   "metadata": {},
   "source": [
    "1. Ajuste a declaração if para verificar se o candidato não é baseado em \"US\" ou \"Canada\" . Não importa onde o candidato esteja baseado, ele também deve ter uma pontuação de avaliação de pelo menos 75."
   ]
  },
  {
   "cell_type": "markdown",
   "metadata": {},
   "source": [
    "Dica: Lembre-se de que podemos adicionar parênteses em torno das condições para agrupá-las. Por exemplo,(a == \"apple\" or a == \"adam\") and b > 0"
   ]
  },
  {
   "cell_type": "code",
   "execution_count": null,
   "metadata": {},
   "outputs": [],
   "source": [
    "if (location == \"US\" or location == \"Canada\") and assessment_score >= 75:\n",
    "  print(f\"Your assessment score is {assessment_score}/100! You're hired!\")\n",
    "else:\n",
    "  print(f\"Thank you for your interest, we regret to inform you that we will not be moving forward with your application.\")"
   ]
  },
  {
   "cell_type": "markdown",
   "metadata": {},
   "source": [
    "Não queremos deixar de contratar candidatos promissores apenas por causa de suas localizações! Vamos adicionar outra verificação para oferecer uma alternativa aos candidatos que se saíram bem na avaliação, mas estão localizados fora dos EUA e do Canadá."
   ]
  },
  {
   "cell_type": "markdown",
   "metadata": {},
   "source": [
    "1. Entre os blocos if e else, codifique um elifbloco que verifica se o candidato location não é \"US\"e não é \"Canada\". O assessment_score deve ser pelo menos 75.\n",
    "2. Para candidatos que preencham a condição acima, imprima a seguinte f-string:"
   ]
  },
  {
   "cell_type": "code",
   "execution_count": null,
   "metadata": {},
   "outputs": [],
   "source": [
    "if (location == \"US\" or location == \"Canada\") and assessment_score >= 75:\n",
    " print(f\"Your assessment score is {assessment_score}/100! You're hired!\")\n",
    "elif location != \"US\" and location != \"Canada\" and assessment_score >= 75:\n",
    " print(f\"Apologies, you are based in {location} but this role requires you to be based in the US/Canada. Would you be interested in another role?\")\n",
    "else:\n",
    " print(f\"Thank you for your interest, we regret to inform you that we will not be moving forward with your application.\")"
   ]
  },
  {
   "cell_type": "markdown",
   "metadata": {},
   "source": [
    "Parabéns! Concluímos o programa, agora vamos entregá-lo ao departamento de RH para experimentá-lo.\n",
    "\n",
    "Não estamos executando nenhum teste aqui, portanto, sinta-se à vontade para brincar com o código. Tente adicionar mais locais para se qualificar para contratação ou altere a pontuação de avaliação necessária.\n",
    "\n",
    "Divirta-se explorando!"
   ]
  }
 ],
 "metadata": {
  "kernelspec": {
   "display_name": "Python 3",
   "language": "python",
   "name": "python3"
  },
  "language_info": {
   "codemirror_mode": {
    "name": "ipython",
    "version": 3
   },
   "file_extension": ".py",
   "mimetype": "text/x-python",
   "name": "python",
   "nbconvert_exporter": "python",
   "pygments_lexer": "ipython3",
   "version": "3.11.4"
  },
  "orig_nbformat": 4
 },
 "nbformat": 4,
 "nbformat_minor": 2
}
