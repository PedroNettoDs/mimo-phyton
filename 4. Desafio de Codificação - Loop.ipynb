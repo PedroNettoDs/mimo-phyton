{
 "cells": [
  {
   "cell_type": "markdown",
   "metadata": {},
   "source": [
    "Crie um programa de inventário simples para uma loja de camisas. O programa deve aumentar a sales variável em 1 e diminuir a inventory variável em 1 quando uma camisa for vendida."
   ]
  },
  {
   "cell_type": "markdown",
   "metadata": {},
   "source": [
    "1. Entre a inicialização da variável e as instruções de impressão, aumente o valor da sales variável 1 usando um operador.\n",
    "2. Diminua o valor da inventory variável 1 usando um operador."
   ]
  },
  {
   "cell_type": "code",
   "execution_count": null,
   "metadata": {},
   "outputs": [],
   "source": [
    "sales = 0\n",
    "inventory = 10\n",
    "\n",
    "sales += 1\n",
    "inventory -= 1\n",
    "print(f'Sales: {sales}')\n",
    "print(f'Inventory: {inventory}')"
   ]
  },
  {
   "cell_type": "markdown",
   "metadata": {},
   "source": [
    "Crie um programa que nos lembre três vezes para parar o bot."
   ]
  },
  {
   "cell_type": "markdown",
   "metadata": {},
   "source": [
    "1. Codifique um while loop que imprima \"Reminder: Stop the bot!\" quando reminder_count for menor que 3.\n",
    "2. Após a instrução print, aumente o valor de reminder_count by 1."
   ]
  },
  {
   "cell_type": "code",
   "execution_count": null,
   "metadata": {},
   "outputs": [],
   "source": [
    "reminder_count = 0\n",
    "\n",
    "while reminder_count < 3:\n",
    "  print(\"Reminder: Stop the bot!\")\n",
    "  reminder_count += 1"
   ]
  },
  {
   "cell_type": "markdown",
   "metadata": {},
   "source": [
    "Escrevemos uma instrução print para nos informar que o programa entrou no loop. No entanto, o programa está em loop infinito, corrija-o antes que ele trave nosso computador!"
   ]
  },
  {
   "cell_type": "markdown",
   "metadata": {},
   "source": [
    "1. No while loop, altere o valor da loopvariável para que \"Entered the loop!\" seja impresso apenas uma vez."
   ]
  },
  {
   "cell_type": "code",
   "execution_count": null,
   "metadata": {},
   "outputs": [],
   "source": [
    "loop = True\n",
    "\n",
    "while loop:\n",
    " print(\"Entered the loop!\")\n",
    " loop = False"
   ]
  },
  {
   "cell_type": "code",
   "execution_count": null,
   "metadata": {},
   "outputs": [],
   "source": []
  }
 ],
 "metadata": {
  "language_info": {
   "name": "python"
  },
  "orig_nbformat": 4
 },
 "nbformat": 4,
 "nbformat_minor": 2
}
