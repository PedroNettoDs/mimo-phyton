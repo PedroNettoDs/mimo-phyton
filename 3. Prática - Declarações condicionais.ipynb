{
 "cells": [
  {
   "cell_type": "markdown",
   "metadata": {},
   "source": [
    "1. Qual é a palavra-chave que decide se um bloco de código deve ser executado ou não?\n",
    "\n",
    "\n"
   ]
  },
  {
   "cell_type": "code",
   "execution_count": null,
   "metadata": {},
   "outputs": [],
   "source": [
    "#(x) if\n",
    "#( ) for\n",
    "#( ) when"
   ]
  },
  {
   "cell_type": "markdown",
   "metadata": {},
   "source": [
    "2. Codifique a variável exibida \"Take an umbrella\" no console."
   ]
  },
  {
   "cell_type": "code",
   "execution_count": null,
   "metadata": {},
   "outputs": [],
   "source": [
    "is_rainy = True\n",
    "is_sunny = False\n",
    "if is_rainy:\n",
    "  print(\"Take an umbrella\")"
   ]
  },
  {
   "cell_type": "markdown",
   "metadata": {},
   "source": [
    "3. Que tipo de valor usamos como condição para uma instrução if?\n",
    "\n",
    "\n"
   ]
  },
  {
   "cell_type": "code",
   "execution_count": null,
   "metadata": {},
   "outputs": [],
   "source": [
    "#( ) String\n",
    "#(X) Boolean\n",
    "#( ) Number"
   ]
  },
  {
   "cell_type": "markdown",
   "metadata": {},
   "source": [
    "4. Com base no recuo, quando será print(\"Starting game ...\") executado?\n",
    "\n",
    "\n"
   ]
  },
  {
   "cell_type": "code",
   "execution_count": null,
   "metadata": {},
   "outputs": [],
   "source": [
    "character = \"Wizard\";\n",
    "if character == \"Knight\": \n",
    "  print(\"Weapon: sword\")\n",
    "print(\"Starting game ...\")\n",
    "\n",
    "#(X) Sempre, independentemente de o bloco if ser executado, pois é recuado no mesmo nível\n",
    "#( ) Nunca, porque este código dá um IdentationError\n",
    "#( ) Só quando o bloco if rodar"
   ]
  },
  {
   "cell_type": "markdown",
   "metadata": {},
   "source": [
    "5. Como chamamos as instruções que executam ou ignoram o código dependendo de uma condição ser True ou False?"
   ]
  },
  {
   "cell_type": "code",
   "execution_count": null,
   "metadata": {},
   "outputs": [],
   "source": [
    "#(x) Declarações condicionais\n",
    "#( ) Declarações de filiais\n",
    "#( ) Declarações de decisão"
   ]
  },
  {
   "cell_type": "markdown",
   "metadata": {},
   "source": [
    "6. O que esse código exibe?\n",
    "\n",
    "\n"
   ]
  },
  {
   "cell_type": "code",
   "execution_count": null,
   "metadata": {},
   "outputs": [],
   "source": [
    "name = \"Sue\"\n",
    "if name == \"Sue\":\n",
    "  print(\"Hi Sue!\")\n",
    "\n",
    "#( ) Sue\n",
    "#(X) Hi Sue!\n",
    "#( ) Nada, a condição é False"
   ]
  },
  {
   "cell_type": "markdown",
   "metadata": {},
   "source": [
    "7. O que esse código exibe?\n",
    "\n",
    "\n"
   ]
  },
  {
   "cell_type": "code",
   "execution_count": null,
   "metadata": {},
   "outputs": [],
   "source": [
    "weather = \"rainy\"\n",
    "color_code = \"yellow\"\n",
    "\n",
    "if weather == \"rainy\":\n",
    "  color_code = \"blue\"\n",
    "\n",
    "print(color_code)\n",
    "\n",
    "#( ) yellow\n",
    "#( ) color_code\n",
    "#(x) blue"
   ]
  },
  {
   "cell_type": "markdown",
   "metadata": {},
   "source": [
    "8. Codifique uma condição que execute a instrução de exibição somente se characterfor diferente de \"Wizard\""
   ]
  },
  {
   "cell_type": "code",
   "execution_count": null,
   "metadata": {},
   "outputs": [],
   "source": [
    "character = \"Wizard\";\n",
    "if character != \"Wizard\": \n",
    "    print(\"You can't use spells\")"
   ]
  },
  {
   "cell_type": "markdown",
   "metadata": {},
   "source": [
    "9. Codifique um operador para fazer a condição True."
   ]
  },
  {
   "cell_type": "code",
   "execution_count": null,
   "metadata": {},
   "outputs": [],
   "source": [
    "account = \"premium\"\n",
    "if account == \"premium\": \n",
    "  print(\"Exclude from data set\")"
   ]
  },
  {
   "cell_type": "markdown",
   "metadata": {},
   "source": [
    "10. Por que as comparações são melhores condições do que apenas True ou False?\n",
    "\n",
    "\n"
   ]
  },
  {
   "cell_type": "code",
   "execution_count": null,
   "metadata": {},
   "outputs": [],
   "source": [
    "#( ) Não podemos usar comparações como condições\n",
    "#( ) Porque eles estão sempre True\n",
    "#(x) Como o valor das variáveis pode mudar, ele pode executar ou pular um bloco de código dependendo do valor."
   ]
  },
  {
   "cell_type": "markdown",
   "metadata": {},
   "source": [
    "11. O que há de errado com este código?\n",
    "\n",
    "\n"
   ]
  },
  {
   "cell_type": "code",
   "execution_count": null,
   "metadata": {},
   "outputs": [],
   "source": [
    "is_weekend = False\n",
    "\n",
    "else:\n",
    "  print(\"rise and shine\")\n",
    "if is_weekend:\n",
    "  print(\"stay in bed\")\n",
    "\n",
    "#(X) A else declaração deve vir depois da if declaração\n",
    "#( ) A else declaração deve ter uma condição\n",
    "#( ) Não há nada de errado com o código"
   ]
  },
  {
   "cell_type": "markdown",
   "metadata": {},
   "source": [
    "12. Por que a declaração não elsetem sua própria condição?\n",
    "\n",
    "\n"
   ]
  },
  {
   "cell_type": "code",
   "execution_count": null,
   "metadata": {},
   "outputs": [],
   "source": [
    "#( ) A else declaração tem uma condição\n",
    "#( ) Porque sempre roda então não precisa de condição\n",
    "#(x) Porque sua condição é o oposto da if condição da instrução"
   ]
  },
  {
   "cell_type": "markdown",
   "metadata": {},
   "source": [
    "13. O que acontece quando common_friends tem um valor menor que 3?\n",
    "\n",
    "\n"
   ]
  },
  {
   "cell_type": "code",
   "execution_count": null,
   "metadata": {},
   "outputs": [],
   "source": [
    "common_friends = 2\n",
    "\n",
    "if common_friends >= 3: \n",
    "  print(\"Friend suggestions: Sue\")\n",
    "else:\n",
    "  print(\"No new suggestions\")\n",
    "\n",
    "#(x) o bloco else da instrução é executado\n",
    "#( ) Nem o bloco if nem o bloco else da instrução são executados\n",
    "#( ) O bloco if da instrução é executado"
   ]
  },
  {
   "cell_type": "markdown",
   "metadata": {},
   "source": [
    "14. Escolha um valor para mad_meter para que o bloco else rode.\n",
    "\n",
    "\n"
   ]
  },
  {
   "cell_type": "code",
   "execution_count": null,
   "metadata": {},
   "outputs": [],
   "source": [
    "mad_meter =  79\n",
    "mad_scientist = \"Dexter\"\n",
    "\n",
    "if mad_meter >= 134: \n",
    "  print(\"Madness achieved!\")\n",
    "else:\n",
    "  print(\"Sorry, \" + mad_scientist + \", not mad enough\")"
   ]
  },
  {
   "cell_type": "markdown",
   "metadata": {},
   "source": [
    "15. O que esse código exibe no console?\n",
    "\n",
    "\n"
   ]
  },
  {
   "cell_type": "code",
   "execution_count": null,
   "metadata": {},
   "outputs": [],
   "source": [
    "choice = \"eclair\"\n",
    "\n",
    "if choice == \"crème brûlée\": \n",
    "  print(\"You have chosen ... wisely\")\n",
    "else:\n",
    "  print(\"You have chosen ... poorly\")\n",
    "\n",
    "#( ) You have chosen ... wisely\n",
    "#(X) You have chosen ... poorly\n",
    "#( ) Nada"
   ]
  },
  {
   "cell_type": "markdown",
   "metadata": {},
   "source": [
    "16. O que esse código exibe no console?"
   ]
  },
  {
   "cell_type": "code",
   "execution_count": null,
   "metadata": {},
   "outputs": [],
   "source": [
    "temperature = 5\n",
    "\n",
    "if temperature < 0:\n",
    "  print(\"Brr...\")\n",
    "elif temperature == 0:\n",
    "  print(\"It's freezing!\")\n",
    "elif temperature < 10:\n",
    "  print(\"It's cold out.\")\n",
    "\n",
    "#(x) It's cold out.\n",
    "#( ) Brr...\n",
    "#( ) It's freezing!"
   ]
  },
  {
   "cell_type": "markdown",
   "metadata": {},
   "source": [
    "17. O recuo de print(\"My favorite color!\") é diferente no primeiro bloco if em comparação com o segundo.\n",
    "\n",
    "Este código fornece um arquivo IndentationError. Qual ifbloco causa isso?"
   ]
  },
  {
   "cell_type": "code",
   "execution_count": null,
   "metadata": {},
   "outputs": [],
   "source": [
    "color = \"red\"\n",
    "if color == \"blue\":\n",
    "  print(\"Blue is awesome!\")\n",
    " print(\"My favorite color!\")\n",
    "\n",
    "if color == \"green\":\n",
    "  print(\"Green is awesome!\")\n",
    "print(\"My favorite color!\")\n",
    "\n",
    "#( ) Ambos\n",
    "#( ) O bloco \"green\", como o segundo, print() é recuado como a if palavra-chave \n",
    "#(X) O bloco \"blue\", como o print() recuo doo segundo é diferente tanto do outro print() quando o if, então o computador não entende onde ele pertence."
   ]
  },
  {
   "cell_type": "markdown",
   "metadata": {},
   "source": [
    "18. Adicione outra elif instrução que seja executada se hoursfor maior que 5.\n",
    "\n",
    "\n"
   ]
  },
  {
   "cell_type": "code",
   "execution_count": null,
   "metadata": {},
   "outputs": [],
   "source": [
    "hours = 3\n",
    "\n",
    "if hours <= 2:\n",
    "  print(\"Occasional app use\")\n",
    "elif hours <= 5:\n",
    "  print(\"Moderate app use\")\n",
    "elif hours > 5:\n",
    "  print(\"Frequent app use\")"
   ]
  },
  {
   "cell_type": "markdown",
   "metadata": {},
   "source": [
    "19. Codifique a elif condição a ser exibida Graciasse language for \"Spanish\".\n",
    "\n",
    "\n"
   ]
  },
  {
   "cell_type": "code",
   "execution_count": null,
   "metadata": {},
   "outputs": [],
   "source": [
    "language = \"Spanish\"\n",
    "message = \"\"\n",
    "\n",
    "if language == \"English\":\n",
    "  message = \"Thank you\"\n",
    "elif language == \"Spanish\":\n",
    "  message = \"Gracias\"\n",
    "elif language == \"German\":\n",
    "  message = \"Danke\"\n",
    "\n",
    "print(message)"
   ]
  },
  {
   "cell_type": "markdown",
   "metadata": {},
   "source": [
    "20. Codifique a palavra-chave para uma elif declaração.\n",
    "\n",
    "\n"
   ]
  },
  {
   "cell_type": "code",
   "execution_count": null,
   "metadata": {},
   "outputs": [],
   "source": [
    "email = \"lori@mail.com\";\n",
    "\n",
    "if email == \"lori@mail.com\":\n",
    "  print(\"Welcome, Lori.\")\n",
    "elif\n",
    " email == \"brad@mail.com\":\n",
    "  print(\"Hello, Brad...\")"
   ]
  },
  {
   "cell_type": "markdown",
   "metadata": {},
   "source": [
    "21. Qual operador usamos quando queremos executar o código somente quando todas as condições são True?"
   ]
  },
  {
   "cell_type": "code",
   "execution_count": null,
   "metadata": {},
   "outputs": [],
   "source": [
    "#( ) or\n",
    "#(x) and\n",
    "#( ) not"
   ]
  },
  {
   "cell_type": "markdown",
   "metadata": {},
   "source": [
    "22. Comece verificando se like_author é True, então use orpara verificar like_genre e finalmente got_recommendation."
   ]
  },
  {
   "cell_type": "code",
   "execution_count": null,
   "metadata": {},
   "outputs": [],
   "source": [
    "like_author = False\n",
    "like_genre = True\n",
    "got_recommendation = True\n",
    "\n",
    "if like_author or like_genre or got_recommendation:\n",
    "  print(\"Buy book\")"
   ]
  },
  {
   "cell_type": "markdown",
   "metadata": {},
   "source": [
    "23. Quantas condições alternativas estão ligadas neste código?\n",
    "\n",
    "\n"
   ]
  },
  {
   "cell_type": "code",
   "execution_count": null,
   "metadata": {},
   "outputs": [],
   "source": [
    "like_author = False\n",
    "like_genre = True\n",
    "got_recommendation = True\n",
    "\n",
    "if like_author or like_genre or got_recommendation:\n",
    "  print(\"Buy book\")\n",
    "\n",
    "#(x) Três\n",
    "#( ) Um\n",
    "#( ) Não há condições alternativas, todas devem ser True"
   ]
  },
  {
   "cell_type": "markdown",
   "metadata": {},
   "source": [
    "24. O que acontece quando todas as condições relacionadas com or são False?\n",
    "\n",
    "\n"
   ]
  },
  {
   "cell_type": "code",
   "execution_count": null,
   "metadata": {},
   "outputs": [],
   "source": [
    "#( ) O bloco de código é executado\n",
    "#(x) O bloco de código é ignorado\n",
    "#( ) Precisamos vincular pelo menos uma True condição"
   ]
  },
  {
   "cell_type": "markdown",
   "metadata": {},
   "source": [
    "25. O que isso exibe no console?\n",
    "\n",
    "\n"
   ]
  },
  {
   "cell_type": "code",
   "execution_count": null,
   "metadata": {},
   "outputs": [],
   "source": [
    "read = False\n",
    "time_elapsed = 50\n",
    "\n",
    "if read or time_elapsed > 30:\n",
    "  print(\"Can't delete the message\")\n",
    "\n",
    "#( ) Mada, porque time_elapsed > 30 é False\n",
    "#( ) Nada, porque read é False\n",
    "#(X) Can't delete the message"
   ]
  }
 ],
 "metadata": {
  "language_info": {
   "name": "python"
  },
  "orig_nbformat": 4
 },
 "nbformat": 4,
 "nbformat_minor": 2
}
