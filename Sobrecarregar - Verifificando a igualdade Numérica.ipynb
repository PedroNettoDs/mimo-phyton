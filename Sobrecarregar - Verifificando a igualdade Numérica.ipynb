{
 "cells": [
  {
   "cell_type": "markdown",
   "metadata": {},
   "source": [
    "1. Qual operador usamos para verificar se dois valores são diferentes?"
   ]
  },
  {
   "cell_type": "code",
   "execution_count": null,
   "metadata": {},
   "outputs": [],
   "source": [
    "#(x) !=\n",
    "#( ) not\n",
    "#( ) ==\n",
    "#( ) =!"
   ]
  },
  {
   "cell_type": "markdown",
   "metadata": {},
   "source": [
    "2. Verifique se as variáveis ​​são diferentes."
   ]
  },
  {
   "cell_type": "code",
   "execution_count": null,
   "metadata": {},
   "outputs": [],
   "source": [
    "num_1 = 17\n",
    "num_2 = 23\n",
    "\n",
    "print(num_1 != num_2)"
   ]
  },
  {
   "cell_type": "markdown",
   "metadata": {},
   "source": [
    "3. Codifique um número para fazer a comparação resultar em True."
   ]
  },
  {
   "cell_type": "code",
   "execution_count": null,
   "metadata": {},
   "outputs": [],
   "source": [
    "print(5 == 5)"
   ]
  },
  {
   "cell_type": "markdown",
   "metadata": {},
   "source": [
    "4. Crie a variável game_over. Verifique se tries_left é igual a 0e armazene o resultado em game_over."
   ]
  },
  {
   "cell_type": "code",
   "execution_count": null,
   "metadata": {},
   "outputs": [],
   "source": [
    "tries_left = 1\n",
    "game_over = tries_left == 0\n",
    "\n",
    "print(\"Game over:\")\n",
    "\n",
    "print(game_over)\n"
   ]
  },
  {
   "cell_type": "markdown",
   "metadata": {},
   "source": [
    "5. O que decide se duas variáveis ​​são iguais?\n"
   ]
  },
  {
   "cell_type": "code",
   "execution_count": null,
   "metadata": {},
   "outputs": [],
   "source": [
    "#( ) Não podemos comparar variáveis\n",
    "#( ) Variáveis são sempre iguais\n",
    "#( ) Os nomes deles\n",
    "#(x) Seus valores"
   ]
  },
  {
   "cell_type": "markdown",
   "metadata": {},
   "source": [
    "6. Verifique se a today variável é igual a 13."
   ]
  },
  {
   "cell_type": "code",
   "execution_count": null,
   "metadata": {},
   "outputs": [],
   "source": [
    "today = 12\n",
    "print(today == 13)"
   ]
  },
  {
   "cell_type": "markdown",
   "metadata": {},
   "source": [
    "7. O que esse código exibe no console?\n",
    "\n",
    "\n"
   ]
  },
  {
   "cell_type": "code",
   "execution_count": null,
   "metadata": {},
   "outputs": [],
   "source": [
    "player_1 = 0\n",
    "player_2 = 10\n",
    "player_1 = 10\n",
    "same_score = player_1 == player_2\n",
    "\n",
    "\n",
    "print(\"It's a tie:\")\n",
    "\n",
    "print(same_score)\n",
    "\n",
    "#( ) It's a tie: {same_score}\n",
    "#( ) It's a tie: e então False\n",
    "#(x) It's a tie: e então True\n",
    "#( ) It's a tie: same_score"
   ]
  },
  {
   "cell_type": "markdown",
   "metadata": {},
   "source": [
    "8. Codifique um operador para exibir True no console.\n",
    "\n",
    "\n"
   ]
  },
  {
   "cell_type": "code",
   "execution_count": null,
   "metadata": {},
   "outputs": [],
   "source": [
    "print(50 != 500)"
   ]
  },
  {
   "cell_type": "markdown",
   "metadata": {},
   "source": [
    "9. O que esse código exibe no console?"
   ]
  },
  {
   "cell_type": "code",
   "execution_count": null,
   "metadata": {},
   "outputs": [],
   "source": [
    "downloaded = 9\n",
    "downloaded = downloaded + 1\n",
    "\n",
    "in_progress = downloaded != 10\n",
    "\n",
    "print(\"Download finished:\")\n",
    "\n",
    "print(in_progress)\n",
    "\n",
    "#( ) Download finished: 10\n",
    "#(x) Download finished: e então False\n",
    "#( ) Download finished: {in_progress}\n",
    "#( ) Download finished: e então True"
   ]
  },
  {
   "cell_type": "markdown",
   "metadata": {},
   "source": [
    "10. Codifique o operador para fazer no_points a loja False."
   ]
  },
  {
   "cell_type": "code",
   "execution_count": null,
   "metadata": {},
   "outputs": [],
   "source": [
    "points_gathered = 142;\n",
    "no_points = points_gathered == 0\n",
    "\n",
    "print(no_points)"
   ]
  }
 ],
 "metadata": {
  "language_info": {
   "name": "python"
  },
  "orig_nbformat": 4
 },
 "nbformat": 4,
 "nbformat_minor": 2
}
