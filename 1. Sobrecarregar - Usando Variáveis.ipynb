{
 "cells": [
  {
   "cell_type": "markdown",
   "metadata": {},
   "source": [
    "1. O que há de errado com este código?"
   ]
  },
  {
   "cell_type": "code",
   "execution_count": null,
   "metadata": {},
   "outputs": [],
   "source": [
    "today = \"Sunday\"\n",
    "today = monday\n",
    "\n",
    "print(today)\n",
    "\n",
    "#( ) Não há nada de errado com o código\n",
    "#(x) A variável monday não foi criada\n",
    "#( ) Não podemos armazenar uma variável em uma varável\n",
    "#( ) Não há nenhuma variável sunday"
   ]
  },
  {
   "cell_type": "markdown",
   "metadata": {},
   "source": [
    "2. O que isso exibe no console?"
   ]
  },
  {
   "cell_type": "code",
   "execution_count": null,
   "metadata": {},
   "outputs": [],
   "source": [
    "bill = 30\n",
    "split_bill = bill/2\n",
    "\n",
    "print(split_bill)\n",
    "\n",
    "#( ) bill/2\n",
    "#( ) bill\n",
    "#( ) 30\n",
    "#(x) 15.0"
   ]
  },
  {
   "cell_type": "markdown",
   "metadata": {},
   "source": [
    "3. Crie uma variável message que armazene o resultado da combinação notification seguido por kind"
   ]
  },
  {
   "cell_type": "code",
   "execution_count": null,
   "metadata": {},
   "outputs": [],
   "source": [
    "notification = \"New appointment: \"\n",
    "kind = \"meeting\"\n",
    "message = notification + kind\n",
    "\n",
    "print(message)"
   ]
  },
  {
   "cell_type": "markdown",
   "metadata": {},
   "source": [
    "4. Salve o resultado de uma expressão adicionando a variável feedback seguida por \"Tickets booked\" na variável response sem usar f-string"
   ]
  },
  {
   "cell_type": "code",
   "execution_count": null,
   "metadata": {},
   "outputs": [],
   "source": [
    "feedback = \"Success! \"\n",
    "response = feedback + \"Tickets booked\"\n",
    "\n",
    "print(response)"
   ]
  },
  {
   "cell_type": "markdown",
   "metadata": {},
   "source": [
    "5. Preencha a lacuna para reatribuir o valor da variável para que Louise cubra o turno de Brandon hoje."
   ]
  },
  {
   "cell_type": "code",
   "execution_count": null,
   "metadata": {},
   "outputs": [],
   "source": [
    "barista = \"Brandon\"\n",
    "barista = \"Louise\"\n",
    "\n",
    "print(\"Today's shift: \" + barista)"
   ]
  },
  {
   "cell_type": "markdown",
   "metadata": {},
   "source": [
    "6. O que isso exibe no console?"
   ]
  },
  {
   "cell_type": "code",
   "execution_count": null,
   "metadata": {},
   "outputs": [],
   "source": [
    "plans = \"cinema\"\n",
    "plans = \"picnic\"\n",
    "\n",
    "print(\"Saturday: \" + plans)\n",
    "\n",
    "#( ) Saturday: plans\n",
    "#( ) \"Saturday:\" plans\n",
    "#(x) Saturday: picnic\n",
    "#( ) Saturday: cinema"
   ]
  },
  {
   "cell_type": "markdown",
   "metadata": {},
   "source": [
    "7. O que isso exibe no console?"
   ]
  },
  {
   "cell_type": "code",
   "execution_count": null,
   "metadata": {},
   "outputs": [],
   "source": [
    "tries_left = \"four\"\n",
    "tries_left = 4\n",
    "\n",
    "print(tries_left)\n",
    "\n",
    "#( ) \"four\"\n",
    "#( ) Nada, não podemos atualizar uma variável de string para um número\n",
    "#(x) 4\n",
    "#( ) \"four\", e então 4"
   ]
  },
  {
   "cell_type": "markdown",
   "metadata": {},
   "source": [
    "8. Use uma variável para atualizar o button_label, para que o código seja exibido Go no console."
   ]
  },
  {
   "cell_type": "code",
   "execution_count": null,
   "metadata": {},
   "outputs": [],
   "source": [
    "start_label = \"Go\"\n",
    "stop_label = \"Stop\"\n",
    "button_label = start_label\n",
    "\n",
    "print(button_label)"
   ]
  },
  {
   "cell_type": "markdown",
   "metadata": {},
   "source": [
    "9. Que tipo de valor a total variável armazena?"
   ]
  },
  {
   "cell_type": "code",
   "execution_count": null,
   "metadata": {},
   "outputs": [],
   "source": [
    "total = 3 + 5\n",
    "print(\"Total: \")\n",
    "print(total)\n",
    "\n",
    "#( ) sem valor\n",
    "#( ) Um valor de string\n",
    "#(x) Um valor numérico\n",
    "#( ) Uma variável"
   ]
  },
  {
   "cell_type": "markdown",
   "metadata": {},
   "source": [
    "10. Atualize a language variável \"Spanish\"antes da instrução de exibição."
   ]
  },
  {
   "cell_type": "code",
   "execution_count": null,
   "metadata": {},
   "outputs": [],
   "source": [
    "language = \"English\"\n",
    "language = \"Spanish\"\n",
    "print(\"Chosen language: \" + language)"
   ]
  }
 ],
 "metadata": {
  "language_info": {
   "name": "python"
  },
  "orig_nbformat": 4
 },
 "nbformat": 4,
 "nbformat_minor": 2
}
