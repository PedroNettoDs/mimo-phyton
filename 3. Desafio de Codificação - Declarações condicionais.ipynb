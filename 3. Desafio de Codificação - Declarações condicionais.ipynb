{
 "cells": [
  {
   "cell_type": "markdown",
   "metadata": {},
   "source": [
    "Imprimimos o número de notificações lidas ou não lidas que um usuário recebeu."
   ]
  },
  {
   "cell_type": "markdown",
   "metadata": {},
   "source": [
    "1. Se unreadnão estiver 0, imprima You have {unread} unread messages. Use f-string para exibir o valor de unreaddentro da string.\n",
    "2. Outra impressão No unread messages. Check your {read} read messages. Use f-string para exibir o valor de readdentro da string.1"
   ]
  },
  {
   "cell_type": "code",
   "execution_count": 1,
   "metadata": {},
   "outputs": [
    {
     "name": "stdout",
     "output_type": "stream",
     "text": [
      "You have 4 unread messages\n"
     ]
    }
   ],
   "source": [
    "read = 5\n",
    "unread = 4\n",
    "if unread != 0:\n",
    " print(f\"You have {unread} unread messages\")\n",
    "else:\n",
    " print(f\"No unread messages. Check your {read} read messages\")"
   ]
  },
  {
   "cell_type": "markdown",
   "metadata": {},
   "source": [
    "Vamos verificar se uma senha está correta usando Python."
   ]
  },
  {
   "cell_type": "markdown",
   "metadata": {},
   "source": [
    "1. Se actualPassfor igual a enteredPass, imprima Login successful.\n",
    "2. Caso contrário, imprima Incorrect credentials. Please try again."
   ]
  },
  {
   "cell_type": "code",
   "execution_count": 2,
   "metadata": {},
   "outputs": [
    {
     "name": "stdout",
     "output_type": "stream",
     "text": [
      "Incorrect credentials. Please try again\n"
     ]
    }
   ],
   "source": [
    "actualPass = \"abc123\"\n",
    "enteredPass = \"Abc123\"\n",
    "\n",
    "if actualPass == enteredPass:\n",
    "  print(\"Login sucessful\")\n",
    "\n",
    "else:\n",
    "  print(\"Incorrect credentials. Please try again\")"
   ]
  },
  {
   "cell_type": "markdown",
   "metadata": {},
   "source": [
    "A entrada em determinados estabelecimentos como um clube depende de ser maior de idade e ter reserva. Vamos escrever um programa Python para verificar se uma pessoa pode entrar."
   ]
  },
  {
   "cell_type": "markdown",
   "metadata": {},
   "source": [
    "1. Se agefor maior ou igual a 18e hasReservationfor True, defina o resultcomo True.\n",
    "2. Imprimir Entry granted: seguido do resultado. Por exemplo, se o resultado for False, imprima Entry granted: False."
   ]
  },
  {
   "cell_type": "code",
   "execution_count": 3,
   "metadata": {},
   "outputs": [
    {
     "name": "stdout",
     "output_type": "stream",
     "text": [
      "Entry grated: True\n"
     ]
    }
   ],
   "source": [
    "age = 21\n",
    "hasReservation = True\n",
    "result = False\n",
    "\n",
    "if age >= 18 and hasReservation:\n",
    "  result = True\n",
    "\n",
    "print(f\"Entry grated: {result}\")"
   ]
  }
 ],
 "metadata": {
  "kernelspec": {
   "display_name": "Python 3",
   "language": "python",
   "name": "python3"
  },
  "language_info": {
   "codemirror_mode": {
    "name": "ipython",
    "version": 3
   },
   "file_extension": ".py",
   "mimetype": "text/x-python",
   "name": "python",
   "nbconvert_exporter": "python",
   "pygments_lexer": "ipython3",
   "version": "3.11.4"
  },
  "orig_nbformat": 4
 },
 "nbformat": 4,
 "nbformat_minor": 2
}
